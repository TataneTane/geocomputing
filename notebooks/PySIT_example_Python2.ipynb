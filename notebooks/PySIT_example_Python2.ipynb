{
 "cells": [
  {
   "cell_type": "markdown",
   "metadata": {},
   "source": [
    "# PySIT example: horizontal reflectors\n",
    "\n",
    "This notebook requires PySIT, which requires Python 2.\n",
    "\n",
    "    pip install pysit\n"
   ]
  },
  {
   "cell_type": "code",
   "execution_count": null,
   "metadata": {
    "collapsed": false
   },
   "outputs": [],
   "source": [
    "# Std import block\n",
    "import time\n",
    "\n",
    "import numpy as np\n",
    "import matplotlib.pyplot as plt\n",
    "%matplotlib inline\n",
    "\n",
    "from pysit import *\n",
    "from pysit.gallery import horizontal_reflector"
   ]
  },
  {
   "cell_type": "code",
   "execution_count": 3,
   "metadata": {
    "collapsed": false
   },
   "outputs": [
    {
     "name": "stdout",
     "output_type": "stream",
     "text": [
      "Data generation: 1.5215959549s\n",
      "Running LBFGS...\n",
      "Iteration 0\n",
      "  gradnorm 0.848689624313\n",
      "  objective 0.000328374069781\n",
      "  residual 0.0256270977592\n",
      "  Starting:  45590.1551396 0.000328374069781\n"
     ]
    },
    {
     "name": "stderr",
     "output_type": "stream",
     "text": [
      "/Users/matt/anaconda/envs/python2/lib/python2.7/site-packages/pysit/solvers/model_parameter.py:74: RuntimeWarning: invalid value encountered in sqrt\n",
      "  def unlinearize(cls, data): return np.sqrt(1./data)\n"
     ]
    },
    {
     "name": "stdout",
     "output_type": "stream",
     "text": [
      "  Pass 1: a:11.1304089696; 0.000469260081457 ?<= 0.000319450882057\n",
      "  Pass 2: a:8.90432717571; 0.000314273881233 ?<= 0.000322663229637\n",
      "  alpha 8.90432717571\n",
      "  run time 6.1018640995s\n",
      "Iteration 1\n",
      "  gradnorm 3.49450387322\n",
      "  objective 0.000314273881233\n",
      "  residual 0.0250708548411\n",
      "  Starting:  1.0 0.000314273881233\n",
      "  Pass 1: a:1.0; 0.000363990059633 ?<= 0.000313744989961\n",
      "  Pass 2: a:0.8; 0.000258319037264 ?<= 0.000313935390819\n",
      "  alpha 0.8\n",
      "  run time 6.78157901764s\n",
      "Iteration 2\n",
      "  gradnorm 4.25348861941\n",
      "  objective 0.000258319037264\n",
      "  residual 0.0227296738764\n",
      "  Starting:  1.0 0.000258319037264\n",
      "  Pass 1: a:1.0; 0.000101135879016 ?<= 0.000258037432615\n",
      "  alpha 1.0\n",
      "  run time 4.70485806465s\n",
      "Iteration 3\n",
      "  gradnorm 0.908402663024\n",
      "  objective 0.000101135879016\n",
      "  residual 0.0142222276044\n",
      "  Starting:  1.0 0.000101135879016\n",
      "  Pass 1: a:1.0; 8.65997639162e-05 ?<= 0.000101116078742\n",
      "  alpha 1.0\n",
      "  run time 3.91781115532s\n",
      "Iteration 4\n",
      "  gradnorm 0.562217366783\n",
      "  objective 8.65997639162e-05\n",
      "  residual 0.0131605291623\n",
      "  Starting:  1.0 8.65997639162e-05\n",
      "  Pass 1: a:1.0; 6.49118818089e-05 ?<= 8.65682114423e-05\n",
      "  alpha 1.0\n",
      "  run time 3.87256097794s\n",
      "...run time:  25.3801910877s\n"
     ]
    }
   ],
   "source": [
    "# Define domain.\n",
    "pmlx = PML(0.1, 100)\n",
    "pmlz = PML(0.1, 100)\n",
    "\n",
    "x_config = (0.1, 1.0, pmlx, pmlx)\n",
    "z_config = (0.1, 0.8, pmlz, pmlz)\n",
    "\n",
    "d = RectangularDomain(x_config, z_config)\n",
    "\n",
    "m = CartesianMesh(d, 90, 70)\n",
    "\n",
    "# Generate true wave speed.\n",
    "C, C0, m, d = horizontal_reflector(m)\n",
    "\n",
    "# Set up shots.\n",
    "zmin = d.z.lbound\n",
    "zmax = d.z.rbound\n",
    "zpos = zmin + (1./9.)*zmax\n",
    "\n",
    "shots = equispaced_acquisition(m,\n",
    "                               RickerWavelet(10.0),\n",
    "                               sources=1,\n",
    "                               source_depth=zpos,\n",
    "                               source_kwargs={},\n",
    "                               receivers='max',\n",
    "                               receiver_depth=zpos,\n",
    "                               receiver_kwargs={},\n",
    "                               )\n",
    "\n",
    "# Define and configure the wave solver.\n",
    "trange = (0.0, 3.0)\n",
    "\n",
    "solver = ConstantDensityAcousticWave(m,\n",
    "                                     formulation='scalar',\n",
    "                                     model_parameters={'C': C}, \n",
    "                                     spatial_accuracy_order=2,\n",
    "                                     trange=trange,\n",
    "                                     use_cpp_acceleration=True)\n",
    "\n",
    "# Generate synthetic seismic data.\n",
    "tt = time.time()\n",
    "wavefields =  []\n",
    "base_model = solver.ModelParameters(m,{'C': C})\n",
    "generate_seismic_data(shots, solver, base_model, wavefields=wavefields)\n",
    "\n",
    "print('Data generation: {0}s'.format(time.time()-tt))\n",
    "\n",
    "objective = TemporalLeastSquares(solver)\n",
    "\n",
    "# Define the inversion algorithm.\n",
    "invalg = LBFGS(objective)\n",
    "initial_value = solver.ModelParameters(m,{'C': C0})\n",
    "\n",
    "# Execute inversion algorithm.\n",
    "print('Running LBFGS...')\n",
    "tt = time.time()\n",
    "\n",
    "nsteps = 5\n",
    "\n",
    "status_configuration = {'value_frequency'           : 1, \n",
    "                        'residual_frequency'        : 1, \n",
    "                        'residual_length_frequency' : 1, \n",
    "                        'objective_frequency'       : 1, \n",
    "                        'step_frequency'            : 1,\n",
    "                        'step_length_frequency'     : 1,\n",
    "                        'gradient_frequency'        : 1, \n",
    "                        'gradient_length_frequency' : 1, \n",
    "                        'run_time_frequency'        : 1, \n",
    "                        'alpha_frequency'           : 1,\n",
    "                        }\n",
    "\n",
    "# line_search = ('constant', 1e-16)\n",
    "line_search = 'backtrack'\n",
    "\n",
    "result = invalg(shots, initial_value, nsteps, \n",
    "                line_search=line_search, \n",
    "                status_configuration=status_configuration, verbose=True)\n",
    "\n",
    "print '...run time:  {0}s'.format(time.time()-tt)\n",
    "\n",
    "obj_vals = np.array([v for k,v in invalg.objective_history.items()])"
   ]
  },
  {
   "cell_type": "code",
   "execution_count": 4,
   "metadata": {
    "collapsed": false
   },
   "outputs": [
    {
     "data": {
      "image/png": "[encoded data removed]",
      "text/plain": [
       "<matplotlib.figure.Figure at 0x116b31250>"
      ]
     },
     "metadata": {},
     "output_type": "display_data"
    }
   ],
   "source": [
    "# plt.figure()\n",
    "# plt.semilogy(obj_vals)\n",
    "\n",
    "clim = C.min(),C.max()\n",
    "\n",
    "# Do something to visualize the results\n",
    "plt.figure(figsize=(16, 12))    \n",
    "plt.subplot(3,1,1)\n",
    "vis.plot(C0, m, clim=clim, cmap='Greys')\n",
    "plt.title('Initial Model')\n",
    "\n",
    "plt.subplot(3,1,2)\n",
    "vis.plot(C, m, clim=clim, cmap='Greys')\n",
    "plt.title('True Model')\n",
    "\n",
    "plt.subplot(3,1,3)\n",
    "vis.plot(result.C, m, clim=clim, cmap='Greys')\n",
    "plt.title('Reconstruction')\n",
    "\n",
    "plt.show()"
   ]
  },
  {
   "cell_type": "code",
   "execution_count": null,
   "metadata": {
    "collapsed": true
   },
   "outputs": [],
   "source": []
  },
  {
   "cell_type": "markdown",
   "metadata": {
    "collapsed": true
   },
   "source": [
    "<hr />\n",
    "\n",
    "<div>\n",
    "<img src=\"https://avatars1.githubusercontent.com/u/1692321?s=50\"><p style=\"text-align:center\">© Agile Geoscience 2016</p>\n",
    "</div>"
   ]
  }
 ],
 "metadata": {
  "anaconda-cloud": {},
  "kernelspec": {
   "display_name": "Python 2",
   "language": "python",
   "name": "python2"
  },
  "language_info": {
   "codemirror_mode": {
    "name": "ipython",
    "version": 2
   },
   "file_extension": ".py",
   "mimetype": "text/x-python",
   "name": "python",
   "nbconvert_exporter": "python",
   "pygments_lexer": "ipython2",
   "version": "2.7.10"
  }
 },
 "nbformat": 4,
 "nbformat_minor": 0
}

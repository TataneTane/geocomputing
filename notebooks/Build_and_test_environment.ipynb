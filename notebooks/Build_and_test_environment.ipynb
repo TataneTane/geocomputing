{
 "cells": [
  {
   "cell_type": "markdown",
   "metadata": {},
   "source": [
    "# Build the environment"
   ]
  },
  {
   "cell_type": "markdown",
   "metadata": {},
   "source": [
    "Install Anaconda for **Python 3.5** then do the following in a terminal:\n",
    "\n",
    "    conda config –-add channels conda-forge\n",
    "    conda create –n geocomputing python=3.5 anaconda\n",
    "\n",
    "Start the environment:\n",
    "\n",
    "    source activate geocomputing\n",
    "\n",
    "Now install packages:\n",
    "\n",
    "    conda install numpy  # Ensures latest.\n",
    "    conda install obspy\n",
    "    conda install geopandas\n",
    "    conda install ipyparallel\n",
    "    conda install tqdm\n",
    "    pip install lasio\n",
    "    pip install bruges\n",
    "    \n",
    "All of this should go without trouble.\n",
    "\n",
    "Now you will need to start running this notebook:\n",
    "\n",
    "    jupyter notebook Build_and_test_environment.ipynb\n",
    "\n",
    "or if you're already running it, restart its kernel... and we can go on to check the environment."
   ]
  },
  {
   "cell_type": "markdown",
   "metadata": {},
   "source": [
    "# Check anaconda basics"
   ]
  },
  {
   "cell_type": "code",
   "execution_count": null,
   "metadata": {
    "collapsed": false
   },
   "outputs": [],
   "source": [
    "!python -V\n",
    "\n",
    "# Should be 3.5"
   ]
  },
  {
   "cell_type": "code",
   "execution_count": null,
   "metadata": {
    "collapsed": true
   },
   "outputs": [],
   "source": [
    "import numpy as np\n",
    "import matplotlib.pyplot as plt\n",
    "from scipy.signal import ricker"
   ]
  },
  {
   "cell_type": "markdown",
   "metadata": {},
   "source": [
    "# Check conda installs\n",
    "\n",
    "If any of these fail, go out to a terminal and do this, replacing `<package>` with the name of the package.\n",
    "\n",
    "    source activate geocomp  # Or whatever is the name of the environment\n",
    "    conda install <package>"
   ]
  },
  {
   "cell_type": "code",
   "execution_count": null,
   "metadata": {
    "collapsed": true
   },
   "outputs": [],
   "source": [
    "import pandas as pd"
   ]
  },
  {
   "cell_type": "code",
   "execution_count": null,
   "metadata": {
    "collapsed": true
   },
   "outputs": [],
   "source": [
    "import requests"
   ]
  },
  {
   "cell_type": "code",
   "execution_count": null,
   "metadata": {
    "collapsed": false
   },
   "outputs": [],
   "source": [
    "import numba"
   ]
  },
  {
   "cell_type": "code",
   "execution_count": null,
   "metadata": {
    "collapsed": true
   },
   "outputs": [],
   "source": [
    "import ipyparallel as ipp"
   ]
  },
  {
   "cell_type": "code",
   "execution_count": null,
   "metadata": {
    "collapsed": true
   },
   "outputs": [],
   "source": [
    "import obspy"
   ]
  },
  {
   "cell_type": "code",
   "execution_count": null,
   "metadata": {
    "collapsed": true
   },
   "outputs": [],
   "source": [
    "import tqdm"
   ]
  },
  {
   "cell_type": "markdown",
   "metadata": {},
   "source": [
    "# Check pip installs\n",
    "\n",
    "If any of these fail, go out to a terminal and do this, replacing `<package>` with the name of the package.\n",
    "\n",
    "    source activate geocomp  # Or whatever is the name of the environment\n",
    "    pip install <package>"
   ]
  },
  {
   "cell_type": "code",
   "execution_count": null,
   "metadata": {
    "collapsed": true
   },
   "outputs": [],
   "source": [
    "import lasio"
   ]
  },
  {
   "cell_type": "code",
   "execution_count": null,
   "metadata": {
    "collapsed": true
   },
   "outputs": [],
   "source": [
    "import bruges as b"
   ]
  },
  {
   "cell_type": "markdown",
   "metadata": {},
   "source": [
    "# Download data"
   ]
  },
  {
   "cell_type": "code",
   "execution_count": null,
   "metadata": {
    "collapsed": true
   },
   "outputs": [],
   "source": [
    "import os\n",
    "import requests\n",
    "import tqdm"
   ]
  },
  {
   "cell_type": "code",
   "execution_count": null,
   "metadata": {
    "collapsed": true
   },
   "outputs": [],
   "source": [
    "files = [\n",
    "    '2D_Land_vibro_data_2ms.tgz',\n",
    "    '3D_gathers_pstm_nmo_X1001.sgy',\n",
    "    'Penobscot_0-1000ms.sgy.gz',\n",
    "    'Penobscot_NumPy.npy.gz',\n",
    "]\n",
    "\n",
    "url = \"https://s3.amazonaws.com/agilegeo/\""
   ]
  },
  {
   "cell_type": "code",
   "execution_count": null,
   "metadata": {
    "collapsed": false
   },
   "outputs": [],
   "source": [
    "localpath = ''  # For CWD.\n",
    "\n",
    "for file in files:\n",
    "    print(file)\n",
    "    r = requests.get(url+file, stream=True)\n",
    "\n",
    "    chunk_size = 1024 * 1024 # 1MB\n",
    "\n",
    "    with open(os.path.join(localpath, file), 'wb') as fd:\n",
    "        for chunk in r.iter_content(chunk_size):\n",
    "            if chunk:\n",
    "                fd.write(chunk)"
   ]
  },
  {
   "cell_type": "code",
   "execution_count": null,
   "metadata": {
    "collapsed": true
   },
   "outputs": [],
   "source": []
  }
 ],
 "metadata": {
  "kernelspec": {
   "display_name": "Python 3",
   "language": "python",
   "name": "python3"
  },
  "language_info": {
   "codemirror_mode": {
    "name": "ipython",
    "version": 3
   },
   "file_extension": ".py",
   "mimetype": "text/x-python",
   "name": "python",
   "nbconvert_exporter": "python",
   "pygments_lexer": "ipython3",
   "version": "3.5.2"
  }
 },
 "nbformat": 4,
 "nbformat_minor": 0
}

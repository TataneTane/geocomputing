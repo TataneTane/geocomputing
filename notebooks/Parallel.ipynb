{
 "cells": [
  {
   "cell_type": "markdown",
   "metadata": {},
   "source": [
    "# Parallel computing in the notebook\n",
    "\n",
    "We can use the IPython `ipyparallel` environment for parallel computing right in the notebook.\n",
    "\n",
    "[Read the docs.](https://ipyparallel.readthedocs.io/en/latest/intro.html)"
   ]
  },
  {
   "cell_type": "markdown",
   "metadata": {},
   "source": [
    "[To install](https://ipyparallel.readthedocs.io/en/latest/index.html):\n",
    "\n",
    "    conda install ipyparallel\n",
    "    ipcluster nbextension enable\n",
    "    \n",
    "If that doesn't work, try doing `conda install jupyter` first."
   ]
  },
  {
   "cell_type": "code",
   "execution_count": 3,
   "metadata": {
    "collapsed": true
   },
   "outputs": [],
   "source": [
    "import numpy as np"
   ]
  },
  {
   "cell_type": "markdown",
   "metadata": {},
   "source": [
    "## A little demo"
   ]
  },
  {
   "cell_type": "code",
   "execution_count": 4,
   "metadata": {
    "collapsed": false
   },
   "outputs": [
    {
     "data": {
      "text/plain": [
       "[0, 1, 2, 3, 4, 5, 6, 7]"
      ]
     },
     "execution_count": 4,
     "metadata": {},
     "output_type": "execute_result"
    }
   ],
   "source": [
    "import ipyparallel as ipp\n",
    "c = ipp.Client()\n",
    "c.ids"
   ]
  },
  {
   "cell_type": "code",
   "execution_count": null,
   "metadata": {
    "collapsed": true
   },
   "outputs": [],
   "source": [
    "# DirectView\n",
    "dview = c[:]"
   ]
  },
  {
   "cell_type": "code",
   "execution_count": null,
   "metadata": {
    "collapsed": false
   },
   "outputs": [],
   "source": [
    "dview.apply_sync(lambda: \"Hello world\")"
   ]
  },
  {
   "cell_type": "code",
   "execution_count": null,
   "metadata": {
    "collapsed": false
   },
   "outputs": [],
   "source": [
    "%timeit list(map(lambda x: (x**3.14159)**0.5, range(int(1e6))))"
   ]
  },
  {
   "cell_type": "code",
   "execution_count": null,
   "metadata": {
    "collapsed": false,
    "scrolled": true
   },
   "outputs": [],
   "source": [
    "%timeit list(dview.map_sync(lambda x: (x**3.14159)**0.5, range(int(1e6))))"
   ]
  },
  {
   "cell_type": "markdown",
   "metadata": {},
   "source": [
    "## `%px` magic\n",
    "\n",
    "We can do parallel execution easily with a magic:"
   ]
  },
  {
   "cell_type": "code",
   "execution_count": 2,
   "metadata": {
    "collapsed": false
   },
   "outputs": [
    {
     "name": "stdout",
     "output_type": "stream",
     "text": [
      "importing numpy on engine(s)\n"
     ]
    }
   ],
   "source": [
    "with c[:].sync_imports():\n",
    "    import numpy"
   ]
  },
  {
   "cell_type": "code",
   "execution_count": 3,
   "metadata": {
    "collapsed": false
   },
   "outputs": [],
   "source": [
    "%px a = numpy.random.rand(4, 4)"
   ]
  },
  {
   "cell_type": "code",
   "execution_count": 4,
   "metadata": {
    "collapsed": false
   },
   "outputs": [
    {
     "data": {
      "text/plain": [
       "\u001b[0;31mOut[0:2]: \u001b[0m\n",
       "array([ 1.84074705+0.j       ,  0.78606188+0.j       ,\n",
       "       -0.47007729+0.2532012j, -0.47007729-0.2532012j])"
      ]
     },
     "metadata": {},
     "output_type": "display_data"
    },
    {
     "data": {
      "text/plain": [
       "\u001b[0;31mOut[1:2]: \u001b[0marray([ 2.13906404, -0.57217535,  0.23099227,  0.02159242])"
      ]
     },
     "metadata": {},
     "output_type": "display_data"
    },
    {
     "data": {
      "text/plain": [
       "\u001b[0;31mOut[2:2]: \u001b[0m\n",
       "array([ 1.67093518+0.j        , -0.21883437+0.44641444j,\n",
       "       -0.21883437-0.44641444j,  0.15355235+0.j        ])"
      ]
     },
     "metadata": {},
     "output_type": "display_data"
    },
    {
     "data": {
      "text/plain": [
       "\u001b[0;31mOut[3:2]: \u001b[0m\n",
       "array([ 2.18834795+0.j        , -0.28245862+0.j        ,\n",
       "        0.22598497+0.08537044j,  0.22598497-0.08537044j])"
      ]
     },
     "metadata": {},
     "output_type": "display_data"
    }
   ],
   "source": [
    "%px numpy.linalg.eigvals(a)"
   ]
  },
  {
   "cell_type": "markdown",
   "metadata": {},
   "source": [
    "## Function decorator"
   ]
  },
  {
   "cell_type": "code",
   "execution_count": 5,
   "metadata": {
    "collapsed": false
   },
   "outputs": [],
   "source": [
    "np.random.seed(1)\n",
    "layers = np.random.random(int(1e6))"
   ]
  },
  {
   "cell_type": "code",
   "execution_count": 6,
   "metadata": {
    "collapsed": true
   },
   "outputs": [],
   "source": [
    "#@dview.parallel()  ## See remark below about this decorator.\n",
    "def compute_rc(layers):\n",
    "    \"\"\"\n",
    "    Computes reflection coefficients given\n",
    "    a list of layer impedances.\n",
    "    \"\"\"\n",
    "    uppers = layers[:-1]\n",
    "    lowers = layers[1:]\n",
    "    rcs = []\n",
    "    for pair in zip(lowers, uppers):\n",
    "        rc = (pair[1] - pair[0]) / (pair[1] + pair[0])\n",
    "        rcs.append(rc)\n",
    "    return rcs"
   ]
  },
  {
   "cell_type": "code",
   "execution_count": 7,
   "metadata": {
    "collapsed": true
   },
   "outputs": [],
   "source": [
    "def compute_rc_vector(layers):\n",
    "    layers = np.array(layers)\n",
    "    uppers = layers[:-1]\n",
    "    lowers = layers[1:]\n",
    "    return (lowers - uppers) / (uppers + lowers)"
   ]
  },
  {
   "cell_type": "markdown",
   "metadata": {},
   "source": [
    "#### list, serial"
   ]
  },
  {
   "cell_type": "code",
   "execution_count": 8,
   "metadata": {
    "collapsed": false
   },
   "outputs": [
    {
     "name": "stdout",
     "output_type": "stream",
     "text": [
      "1 loop, best of 3: 532 ms per loop\n"
     ]
    }
   ],
   "source": [
    "%timeit compute_rc(layers)"
   ]
  },
  {
   "cell_type": "markdown",
   "metadata": {},
   "source": [
    "#### list, parallel"
   ]
  },
  {
   "cell_type": "code",
   "execution_count": 9,
   "metadata": {
    "collapsed": false
   },
   "outputs": [],
   "source": [
    "# NB This is the same as using @dview.parallel() to decorate the\n",
    "# original function when we defined it, as shown in that block.\n",
    "compute_rc_parallel = dview.parallel()(compute_rc)"
   ]
  },
  {
   "cell_type": "code",
   "execution_count": 10,
   "metadata": {
    "collapsed": false
   },
   "outputs": [
    {
     "name": "stdout",
     "output_type": "stream",
     "text": [
      "100 loops, best of 3: 13.5 ms per loop\n"
     ]
    }
   ],
   "source": [
    "%timeit compute_rc_parallel(layers)"
   ]
  },
  {
   "cell_type": "markdown",
   "metadata": {},
   "source": [
    "#### ndarray, serial"
   ]
  },
  {
   "cell_type": "code",
   "execution_count": 11,
   "metadata": {
    "collapsed": false
   },
   "outputs": [
    {
     "name": "stdout",
     "output_type": "stream",
     "text": [
      "100 loops, best of 3: 10.3 ms per loop\n"
     ]
    }
   ],
   "source": [
    "%timeit compute_rc_vector(layers)"
   ]
  },
  {
   "cell_type": "markdown",
   "metadata": {},
   "source": [
    "#### ndarray, parallel"
   ]
  },
  {
   "cell_type": "code",
   "execution_count": 12,
   "metadata": {
    "collapsed": true
   },
   "outputs": [],
   "source": [
    "compute_rc_vector_parallel = dview.parallel()(compute_rc_vector)"
   ]
  },
  {
   "cell_type": "code",
   "execution_count": 13,
   "metadata": {
    "collapsed": false
   },
   "outputs": [
    {
     "name": "stdout",
     "output_type": "stream",
     "text": [
      "10 loops, best of 3: 6 ms per loop\n"
     ]
    }
   ],
   "source": [
    "%timeit compute_rc_vector_parallel(layers)"
   ]
  },
  {
   "cell_type": "markdown",
   "metadata": {},
   "source": [
    "## Parallel list comprehension\n",
    "\n",
    "Via `scatter` and `gather`. [From the docs](https://ipyparallel.readthedocs.io/en/latest/multiengine.html#scatter-and-gather):\n",
    "\n",
    "> Sometimes it is useful to partition a sequence and push the partitions to different engines. In MPI language, this is know as scatter/gather and we follow that terminology [...] `scatter()` is from the interactive IPython session to the engines and `gather()` is from the engines back to the interactive IPython session.\n",
    "\n",
    "We start by scattering the iterable (notice that we have to call list on everything because everything is lazily executed):"
   ]
  },
  {
   "cell_type": "code",
   "execution_count": 5,
   "metadata": {
    "collapsed": false
   },
   "outputs": [
    {
     "data": {
      "text/plain": [
       "[range(0, 4), range(4, 8), range(8, 12), range(12, 16)]"
      ]
     },
     "execution_count": 5,
     "metadata": {},
     "output_type": "execute_result"
    }
   ],
   "source": [
    "dview.scatter('y', range(16))\n",
    "\n",
    "# And look at it:\n",
    "list(dview['y'])"
   ]
  },
  {
   "cell_type": "markdown",
   "metadata": {},
   "source": [
    "Now we can compute with the pieces, using the 'parallel execution' magic, `%px`:"
   ]
  },
  {
   "cell_type": "code",
   "execution_count": 6,
   "metadata": {
    "collapsed": false
   },
   "outputs": [
    {
     "data": {
      "text/plain": [
       "[[0.0, 1.0, 2.970683691519495, 5.616421346404785],\n",
       " [8.824961595059897,\n",
       "  12.529639852302871,\n",
       "  16.68461129846666,\n",
       "  21.255717809934282],\n",
       " [26.216169488730305,\n",
       "  31.544188740351338,\n",
       "  37.22159676984888,\n",
       "  43.23290542839072],\n",
       " [49.564702683696815, 56.20521948320366, 63.14401424951226, 70.37173672923794]]"
      ]
     },
     "execution_count": 6,
     "metadata": {},
     "output_type": "execute_result"
    }
   ],
   "source": [
    "%px z = [(i**3.14159)**0.5 for i in y]\n",
    "list(dview['z'])"
   ]
  },
  {
   "cell_type": "markdown",
   "metadata": {},
   "source": [
    "Now cast back out to a Python sequence."
   ]
  },
  {
   "cell_type": "code",
   "execution_count": 7,
   "metadata": {
    "collapsed": false
   },
   "outputs": [
    {
     "data": {
      "text/plain": [
       "[0.0,\n",
       " 1.0,\n",
       " 2.970683691519495,\n",
       " 5.616421346404785,\n",
       " 8.824961595059897,\n",
       " 12.529639852302871,\n",
       " 16.68461129846666,\n",
       " 21.255717809934282,\n",
       " 26.216169488730305,\n",
       " 31.544188740351338,\n",
       " 37.22159676984888,\n",
       " 43.23290542839072,\n",
       " 49.564702683696815,\n",
       " 56.20521948320366,\n",
       " 63.14401424951226,\n",
       " 70.37173672923794]"
      ]
     },
     "execution_count": 7,
     "metadata": {},
     "output_type": "execute_result"
    }
   ],
   "source": [
    "z = dview.gather('z')\n",
    "list(z)"
   ]
  },
  {
   "cell_type": "code",
   "execution_count": null,
   "metadata": {
    "collapsed": true
   },
   "outputs": [],
   "source": []
  }
 ],
 "metadata": {
  "kernelspec": {
   "display_name": "Python [conda env:python3]",
   "language": "python",
   "name": "conda-env-python3-py"
  },
  "language_info": {
   "codemirror_mode": {
    "name": "ipython",
    "version": 3
   },
   "file_extension": ".py",
   "mimetype": "text/x-python",
   "name": "python",
   "nbconvert_exporter": "python",
   "pygments_lexer": "ipython3",
   "version": "3.5.2"
  }
 },
 "nbformat": 4,
 "nbformat_minor": 0
}

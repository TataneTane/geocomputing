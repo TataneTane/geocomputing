{
 "cells": [
  {
   "cell_type": "markdown",
   "metadata": {},
   "source": [
    "# Reading the rock property catalog\n",
    "\n",
    "This notebook accompanies a blog post — [The Rock Property Catalog again](http://www.agilegeoscience.com/blog/2015/10/5/the-rock-property-catalog-again)"
   ]
  },
  {
   "cell_type": "markdown",
   "metadata": {},
   "source": [
    "## Querying"
   ]
  },
  {
   "cell_type": "markdown",
   "metadata": {},
   "source": [
    "This is very hacky. It will change. Stay tuned."
   ]
  },
  {
   "cell_type": "code",
   "execution_count": 1,
   "metadata": {
    "collapsed": false
   },
   "outputs": [],
   "source": [
    "import requests\n",
    "import pandas as pd\n",
    "\n",
    "class RPC(object):\n",
    "    def __init__(self):\n",
    "        pass\n",
    "    \n",
    "    def _query_ssw(self, filters, properties, options):\n",
    "        \n",
    "        base_url = \"http://www.subsurfwiki.org/api.php\"\n",
    "        q = \"action=ask&query=[[RPC:%2B]]\"\n",
    "        q += ''.join(filters) if filters else ''\n",
    "        q += '|%3F' + '|%3F'.join(properties) if properties else ''\n",
    "        q += '|' + '|'.join(options) if options else ''\n",
    "        q += '&format=json'\n",
    "        \n",
    "        return requests.get(base_url, params=q)\n",
    "    \n",
    "    def _get_formats(self, response):\n",
    "        formats = {}\n",
    "        for item in response.json()['query']['printrequests']:\n",
    "            if item[u'mode'] == 1:\n",
    "                formats[item[u'label']] = item[u'typeid'].lstrip('_')\n",
    "        return formats\n",
    "    \n",
    "    def _build_dataframe(self, response):\n",
    "        \"\"\"\n",
    "        Takes the response of a query and returns a pandas\n",
    "        dataframe containing the results.\n",
    "        \"\"\"\n",
    "        try:\n",
    "            s = list(response.json()['query']['results'].keys())\n",
    "        except Exception as e:\n",
    "            raise e\n",
    "        samples = [i[4:] for i in s]\n",
    "        df = pd.DataFrame(samples)\n",
    "\n",
    "        # We'll need to know the formats of the columns.\n",
    "        formats = self._get_formats(response)\n",
    "        properties = formats.keys()\n",
    "\n",
    "        # Now traverse the JSON and build the DataFrame.\n",
    "        for prop in properties:\n",
    "            temp = []\n",
    "            for row in list(s):\n",
    "                p = response.json()['query']['results'][row]['printouts']\n",
    "                if p[prop]:\n",
    "                    if formats[prop] == 'qty':   # Quantity, number + unit\n",
    "                        temp.append(p[prop][0]['value'])\n",
    "                    elif formats[prop] == 'wpg':  # Wiki page\n",
    "                        temp.append(p[prop][0]['fulltext'])\n",
    "                    else:                         # Anything else: num, txt, tem, etc.\n",
    "                        temp.append(p[prop][0])\n",
    "                else:\n",
    "                    temp.append(None)\n",
    "            df[prop] = temp\n",
    "        \n",
    "        df = df.set_index(0)\n",
    "        df.index.name = None\n",
    "\n",
    "        return df\n",
    "    \n",
    "    def query(self, filters=None, properties=None, options=None):\n",
    "        r = self._query_ssw(filters, properties, options)\n",
    "        if r.status_code == 200:\n",
    "            return self._build_dataframe(r)\n",
    "        else:\n",
    "            print(\"Something went wrong.\")\n",
    "        "
   ]
  },
  {
   "cell_type": "code",
   "execution_count": 2,
   "metadata": {
    "collapsed": false
   },
   "outputs": [
    {
     "data": {
      "text/html": [
       "<div>\n",
       "<table border=\"1\" class=\"dataframe\">\n",
       "  <thead>\n",
       "    <tr style=\"text-align: right;\">\n",
       "      <th></th>\n",
       "      <th>Vs</th>\n",
       "      <th>Vp</th>\n",
       "      <th>Citation</th>\n",
       "      <th>Rho</th>\n",
       "      <th>Epsilon</th>\n",
       "      <th>Description</th>\n",
       "      <th>Delta</th>\n",
       "      <th>Lithology</th>\n",
       "    </tr>\n",
       "  </thead>\n",
       "  <tbody>\n",
       "    <tr>\n",
       "      <th>100013</th>\n",
       "      <td>NaN</td>\n",
       "      <td>NaN</td>\n",
       "      <td>Sondergeld, 2011</td>\n",
       "      <td>None</td>\n",
       "      <td>1.09402</td>\n",
       "      <td>Haynesville Shale 2</td>\n",
       "      <td>0.5176</td>\n",
       "      <td>Shale</td>\n",
       "    </tr>\n",
       "    <tr>\n",
       "      <th>100033</th>\n",
       "      <td>1749.465942</td>\n",
       "      <td>3442.093372</td>\n",
       "      <td>Wang, 2002</td>\n",
       "      <td>None</td>\n",
       "      <td>0.08100</td>\n",
       "      <td>Shale</td>\n",
       "      <td>0.0300</td>\n",
       "      <td>Shale</td>\n",
       "    </tr>\n",
       "    <tr>\n",
       "      <th>100067</th>\n",
       "      <td>2579.530478</td>\n",
       "      <td>3853.522778</td>\n",
       "      <td>Wang, 2002</td>\n",
       "      <td>None</td>\n",
       "      <td>0.17300</td>\n",
       "      <td>Hard shale</td>\n",
       "      <td>0.0260</td>\n",
       "      <td>Shale</td>\n",
       "    </tr>\n",
       "    <tr>\n",
       "      <th>100004</th>\n",
       "      <td>NaN</td>\n",
       "      <td>NaN</td>\n",
       "      <td>Sondergeld, 2011</td>\n",
       "      <td>None</td>\n",
       "      <td>1.04908</td>\n",
       "      <td>Haynesville Shale 1</td>\n",
       "      <td>1.1688</td>\n",
       "      <td>Shale</td>\n",
       "    </tr>\n",
       "    <tr>\n",
       "      <th>100012</th>\n",
       "      <td>NaN</td>\n",
       "      <td>NaN</td>\n",
       "      <td>Sondergeld, 2011</td>\n",
       "      <td>None</td>\n",
       "      <td>1.17021</td>\n",
       "      <td>Haynesville Shale 2</td>\n",
       "      <td>0.7239</td>\n",
       "      <td>Shale</td>\n",
       "    </tr>\n",
       "  </tbody>\n",
       "</table>\n",
       "</div>"
      ],
      "text/plain": [
       "                 Vs           Vp          Citation   Rho  Epsilon  \\\n",
       "100013          NaN          NaN  Sondergeld, 2011  None  1.09402   \n",
       "100033  1749.465942  3442.093372        Wang, 2002  None  0.08100   \n",
       "100067  2579.530478  3853.522778        Wang, 2002  None  0.17300   \n",
       "100004          NaN          NaN  Sondergeld, 2011  None  1.04908   \n",
       "100012          NaN          NaN  Sondergeld, 2011  None  1.17021   \n",
       "\n",
       "                Description   Delta Lithology  \n",
       "100013  Haynesville Shale 2  0.5176     Shale  \n",
       "100033                Shale  0.0300     Shale  \n",
       "100067           Hard shale  0.0260     Shale  \n",
       "100004  Haynesville Shale 1  1.1688     Shale  \n",
       "100012  Haynesville Shale 2  0.7239     Shale  "
      ]
     },
     "execution_count": 2,
     "metadata": {},
     "output_type": "execute_result"
    }
   ],
   "source": [
    "rpc = RPC()\n",
    "\n",
    "filters = [\"[[lithology::Shale||Sandstone||Limestone]][[Delta::%2B]]\"]\n",
    "properties = ['Citation', 'Description', 'Lithology', 'Vp', 'Vs', 'Rho', 'Delta', 'Epsilon']\n",
    "options = [\"limit=100\"]\n",
    "\n",
    "df = rpc.query(filters, properties, options)\n",
    "df.head()"
   ]
  },
  {
   "cell_type": "code",
   "execution_count": 3,
   "metadata": {
    "collapsed": false
   },
   "outputs": [
    {
     "data": {
      "text/plain": [
       "100"
      ]
     },
     "execution_count": 3,
     "metadata": {},
     "output_type": "execute_result"
    }
   ],
   "source": [
    "len(df)"
   ]
  },
  {
   "cell_type": "markdown",
   "metadata": {},
   "source": [
    "## Plotting!"
   ]
  },
  {
   "cell_type": "code",
   "execution_count": 4,
   "metadata": {
    "collapsed": false
   },
   "outputs": [],
   "source": [
    "import matplotlib.pyplot as plt\n",
    "import numpy as np\n",
    "%matplotlib inline"
   ]
  },
  {
   "cell_type": "code",
   "execution_count": 5,
   "metadata": {
    "collapsed": false
   },
   "outputs": [
    {
     "data": {
      "text/plain": [
       "<matplotlib.collections.PathCollection at 0x114e6df28>"
      ]
     },
     "execution_count": 5,
     "metadata": {},
     "output_type": "execute_result"
    },
    {
     "data": {
      "image/png": "[encoded data removed]",
      "text/plain": [
       "<matplotlib.figure.Figure at 0x106cd1470>"
      ]
     },
     "metadata": {},
     "output_type": "display_data"
    }
   ],
   "source": [
    "plt.scatter(df.Vs, df.Vp)"
   ]
  },
  {
   "cell_type": "code",
   "execution_count": 6,
   "metadata": {
    "collapsed": false
   },
   "outputs": [],
   "source": [
    "liths = df.groupby('Lithology')"
   ]
  },
  {
   "cell_type": "code",
   "execution_count": 7,
   "metadata": {
    "collapsed": false
   },
   "outputs": [
    {
     "data": {
      "image/png": "[encoded data removed]",
      "text/plain": [
       "<matplotlib.figure.Figure at 0x112a64ba8>"
      ]
     },
     "metadata": {},
     "output_type": "display_data"
    }
   ],
   "source": [
    "fig = plt.figure(figsize=(6,6))\n",
    "ax = plt.subplot(111)\n",
    "for name, group in liths:\n",
    "    ax.plot(group.Vp, group.Vs, marker='o', linestyle='', ms=6, label=name)\n",
    "ax.legend(loc=2)\n",
    "\n",
    "title = '{0}\\ rocks\\ from\\ the\\ RPC'.format(len(df))\n",
    "plt.title('$\\mathrm{' + title + '}$', size=18)\n",
    "plt.xlabel('$V_\\mathrm{P}\\ [m/s]$', size=16)\n",
    "plt.ylabel('$V_\\mathrm{S}\\ [m/s]$', size=16)\n",
    "plt.show()"
   ]
  },
  {
   "cell_type": "markdown",
   "metadata": {},
   "source": [
    "<hr />\n",
    "<p style=\"color:gray;\">© Agile Geoscience 2015. This notebook is licensed under the terms of <a href=\"https://creativecommons.org/licenses/by/4.0/\">Creative Commons Attribution 4.0</a>. Please use it!</p>"
   ]
  }
 ],
 "metadata": {
  "kernelspec": {
   "display_name": "Python 3",
   "language": "python",
   "name": "python3"
  },
  "language_info": {
   "codemirror_mode": {
    "name": "ipython",
    "version": 3
   },
   "file_extension": ".py",
   "mimetype": "text/x-python",
   "name": "python",
   "nbconvert_exporter": "python",
   "pygments_lexer": "ipython3",
   "version": "3.5.2"
  }
 },
 "nbformat": 4,
 "nbformat_minor": 0
}

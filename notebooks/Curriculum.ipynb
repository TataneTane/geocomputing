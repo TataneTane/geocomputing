{
 "cells": [
  {
   "cell_type": "markdown",
   "metadata": {},
   "source": [
    "# Geocomputing course\n",
    "\n",
    "## Overview\n",
    "\n",
    "1. A quick introduction to Python, and syntax basics. Ways to run Python code.\n",
    "1. The scientific computing stack: NumPy, SciPy, mpl.\n",
    "1. Functions and functional programming.\n",
    "1. Classes: object-oriented Python.\n",
    "1. Reading and writing SEGY, LAS, CSV, SHP files. Reading from the web.\n",
    "1. Storing data: binary files, text files.\n",
    "1. Data wrangling in Pandas.\n",
    "1. Machine learning in scikit-learn.\n",
    "\n",
    "## Notebooks\n",
    "\n",
    "#### 1. Introduction to Python\n",
    "* [Intro to Python](Intro_to_Python.ipynb) — [Exercise](../exercises/Ex__Intro_to_Python.ipynb)\n",
    "* Ways to run Python\n",
    "\n",
    "#### 2. The scientific Python stack\n",
    "* [Intro to scientific computing](Intro_to_scientific_computing.ipynb) — [Exercise](../exercises/Ex__Intro_to_scientific_computing.ipynb)\n",
    "* Optional: [Parallel](Parallel.ipynb)\n",
    "* Optional: [Performance with numba](Performance_with_numba.ipynb)\n",
    "\n",
    "#### 3. Functions\n",
    "* [Intro to functions](../exercises/Intro_to_functions.ipynb)\n",
    "* Optional: [Functional programming patterns](Functional_programming_patterns.ipynb)\n",
    "\n",
    "#### 4. Classes\n",
    "* [Intro to classes](Intro_to_classes.ipynb) — [Exercise](../exercises/Ex__Intro_to_classes.ipynb)\n",
    "\n",
    "#### 5. Reading SEGY, LAS, SHP\n",
    "* [Intro to seismic data](Intro_to_seismic_data.ipynb) — [Exercise](../exercises/Ex__Intro_to_classes.ipynb)\n",
    "* [Read SEGY with ObsPy](Read_SEGY_with_ObsPy.ipynb) — [Exercise](../exercises/Ex__Read_SEGY_with_ObsPy.ipynb) — reading SEGY.\n",
    "* [Write SEGY with ObsPy](Write_SEGY_with_ObsPy.ipynb) — [Exercise](../exercises/Demo__Write_SEGY_with_ObsPy.ipynb) — writing SEGY.\n",
    "* [Simple synthetic](Simple_synthetic.ipynb) — [Exercise](../exercises/Ex__Simple_synthetic.ipynb) — reading LAS.\n",
    "* [Vibroseis data](Vibroseis_data.ipynb) — [Demo](../exercises/Demo__Simple_synthetic.ipynb) — reading SEGY, Pandas.\n",
    "* [Wavelets and sweeps](Wavelets_and_sweeps.ipynb) — [Exercise](../exercises/Ex__Wavelets_and_sweeps.ipynb) — reading LAS.\n",
    "* [Bruges getting started](../exercises/Demo__Bruges_getting_started.ipynb) — reading LAS.\n",
    "* Optional: [Read and write SHP](../exercises/Demo__Read_and_write_SHP.ipynb)\n",
    "\n",
    "#### 6 etc.\n",
    "* [Intro to machine learning](../exercises/Ex__Intro_to_machine_learning.ipynb) — reading CSV, Pandas, sklearn.\n",
    "* Optional: "
   ]
  },
  {
   "cell_type": "code",
   "execution_count": null,
   "metadata": {
    "collapsed": true
   },
   "outputs": [],
   "source": []
  }
 ],
 "metadata": {
  "anaconda-cloud": {},
  "kernelspec": {
   "display_name": "Python [python3]",
   "language": "python",
   "name": "Python [python3]"
  },
  "language_info": {
   "codemirror_mode": {
    "name": "ipython",
    "version": 3
   },
   "file_extension": ".py",
   "mimetype": "text/x-python",
   "name": "python",
   "nbconvert_exporter": "python",
   "pygments_lexer": "ipython3",
   "version": "3.5.2"
  }
 },
 "nbformat": 4,
 "nbformat_minor": 0
}

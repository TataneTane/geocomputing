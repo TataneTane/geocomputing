{
 "cells": [
  {
   "cell_type": "markdown",
   "metadata": {},
   "source": [
    "# Using the Web: Curvenam.es and Modelr.io\n",
    "\n",
    "We'll try getting some geoscience info from the web.\n",
    "\n",
    "The usual prelims:"
   ]
  },
  {
   "cell_type": "code",
   "execution_count": 2,
   "metadata": {
    "collapsed": false
   },
   "outputs": [],
   "source": [
    "import numpy as np\n",
    "import matplotlib.pyplot as plt\n",
    "%matplotlib inline"
   ]
  },
  {
   "cell_type": "markdown",
   "metadata": {},
   "source": [
    "We'll use the `requests` library, because it's nicer to use than `urllib2`. "
   ]
  },
  {
   "cell_type": "code",
   "execution_count": 1,
   "metadata": {
    "collapsed": false
   },
   "outputs": [],
   "source": [
    "import requests"
   ]
  },
  {
   "cell_type": "markdown",
   "metadata": {},
   "source": [
    "## Curvenam.es\n",
    "\n",
    "[`curvenam.es`](http://curvenam.es) is a little web app for looking up curve mnemonics from LAS files.\n",
    "\n",
    "Here's what [the demo request from the site](http://curvenam.es/lookup) looks like:\n",
    "\n",
    "    http://curvenam.es/lookup?mnemonic=TEST&method=fuzzy&limit=5&maxdist=2\n",
    "    \n",
    "We split this into the URL, and the query parameters:"
   ]
  },
  {
   "cell_type": "code",
   "execution_count": 3,
   "metadata": {
    "collapsed": true
   },
   "outputs": [],
   "source": [
    "url = 'http://curvenam.es/lookup'"
   ]
  },
  {
   "cell_type": "code",
   "execution_count": 25,
   "metadata": {
    "collapsed": true
   },
   "outputs": [],
   "source": [
    "params = {'mnemonic': 'DT4P',\n",
    "          'method': 'fuzzy',\n",
    "          'limit': 1,\n",
    "          'maxdist': 2\n",
    "         }"
   ]
  },
  {
   "cell_type": "code",
   "execution_count": 26,
   "metadata": {
    "collapsed": true
   },
   "outputs": [],
   "source": [
    "r = requests.get(url, params)"
   ]
  },
  {
   "cell_type": "markdown",
   "metadata": {},
   "source": [
    "If we were successful, the server sends back a `200` status code:"
   ]
  },
  {
   "cell_type": "code",
   "execution_count": 27,
   "metadata": {
    "collapsed": false
   },
   "outputs": [
    {
     "data": {
      "text/plain": [
       "200"
      ]
     },
     "execution_count": 27,
     "metadata": {},
     "output_type": "execute_result"
    }
   ],
   "source": [
    "r.status_code"
   ]
  },
  {
   "cell_type": "markdown",
   "metadata": {},
   "source": [
    "The result of the query is in the `text` attribute of the result:"
   ]
  },
  {
   "cell_type": "code",
   "execution_count": 28,
   "metadata": {
    "collapsed": false
   },
   "outputs": [
    {
     "data": {
      "text/plain": [
       "'{\"mnemonic\": \"DT4P\", \"maxdist\": \"2\", \"limit\": \"1\", \"result\": [{\"mnemonic\": \"DT4P\", \"distance\": 0, \"curve\": {\"mnemonic\": \"DT4P\", \"model\": \"\", \"unittype\": \"AcousticSlowness\", \"description\": \"Delta-T Compressional - Monopole P&S\", \"units\": \"\", \"company\": \"Schlumberger\", \"type\": \"Curve\", \"method\": \"Wireline\"}}], \"time\": 0.0065999031066894531, \"method\": \"fuzzy\"}'"
      ]
     },
     "execution_count": 28,
     "metadata": {},
     "output_type": "execute_result"
    }
   ],
   "source": [
    "r.text"
   ]
  },
  {
   "cell_type": "markdown",
   "metadata": {},
   "source": [
    "There's a convenient `json()` method to give us the result as JSON:"
   ]
  },
  {
   "cell_type": "code",
   "execution_count": 29,
   "metadata": {
    "collapsed": false
   },
   "outputs": [
    {
     "data": {
      "text/plain": [
       "{'limit': '1',\n",
       " 'maxdist': '2',\n",
       " 'method': 'fuzzy',\n",
       " 'mnemonic': 'DT4P',\n",
       " 'result': [{'curve': {'company': 'Schlumberger',\n",
       "    'description': 'Delta-T Compressional - Monopole P&S',\n",
       "    'method': 'Wireline',\n",
       "    'mnemonic': 'DT4P',\n",
       "    'model': '',\n",
       "    'type': 'Curve',\n",
       "    'units': '',\n",
       "    'unittype': 'AcousticSlowness'},\n",
       "   'distance': 0,\n",
       "   'mnemonic': 'DT4P'}],\n",
       " 'time': 0.006599903106689453}"
      ]
     },
     "execution_count": 29,
     "metadata": {},
     "output_type": "execute_result"
    }
   ],
   "source": [
    "r.json()"
   ]
  },
  {
   "cell_type": "markdown",
   "metadata": {},
   "source": [
    "So we can get a result back like so:"
   ]
  },
  {
   "cell_type": "code",
   "execution_count": 31,
   "metadata": {
    "collapsed": false
   },
   "outputs": [
    {
     "name": "stdout",
     "output_type": "stream",
     "text": [
      "Delta-T Compressional - Monopole P&S\n"
     ]
    }
   ],
   "source": [
    "try:\n",
    "    print(r.json()['result'][0]['curve']['description'])\n",
    "except:\n",
    "    print(\"No results\")"
   ]
  },
  {
   "cell_type": "markdown",
   "metadata": {},
   "source": [
    "## The modelr API\n",
    "\n",
    "Some small demos of the modelr API, hurriedly compiled. "
   ]
  },
  {
   "cell_type": "code",
   "execution_count": 2,
   "metadata": {
    "collapsed": false
   },
   "outputs": [],
   "source": [
    "from PIL import Image\n",
    "from io import BytesIO\n",
    "from base64 import b64decode"
   ]
  },
  {
   "cell_type": "markdown",
   "metadata": {},
   "source": [
    "### Request a wedge synthetic\n",
    "\n",
    "Let's build the request programmatically. "
   ]
  },
  {
   "cell_type": "code",
   "execution_count": 4,
   "metadata": {
    "collapsed": false
   },
   "outputs": [],
   "source": [
    "url = 'https://www.modelr.org/plot.json'\n",
    "\n",
    "params = { 'script': 'wedge_spatial.py',\n",
    "           'theta': 0,\n",
    "           'f': 25,\n",
    "           'colourmap': 'Greys',\n",
    "           'opacity': 0.5,\n",
    "           'tslice': 150,\n",
    "           'scale': '1.0,99',\n",
    "           'base1': 'variable-density',\n",
    "           'Rock0': '3000.0,1600.0,2500.0,50.0,50.0,50.0',\n",
    "           'Rock1': '2770.0,1780.0,2185.0,50.0,50.0,50.0',\n",
    "           'Rock2': '3000.0,1600.0,2500.0,50.0,50.0,50.0',\n",
    "           'type': \"scenario\"\n",
    "         }"
   ]
  },
  {
   "cell_type": "markdown",
   "metadata": {},
   "source": [
    "I don't know why `requests` doesn't like our certificate, but it fails if we don't suppress cert verification. I am checking into this."
   ]
  },
  {
   "cell_type": "code",
   "execution_count": 5,
   "metadata": {
    "collapsed": false
   },
   "outputs": [
    {
     "name": "stderr",
     "output_type": "stream",
     "text": [
      "/Users/matt/anaconda/envs/python3/lib/python3.5/site-packages/requests/packages/urllib3/connectionpool.py:838: InsecureRequestWarning: Unverified HTTPS request is being made. Adding certificate verification is strongly advised. See: https://urllib3.readthedocs.io/en/latest/security.html\n",
      "  InsecureRequestWarning)\n"
     ]
    }
   ],
   "source": [
    "r = requests.get(url, params, verify=False)"
   ]
  },
  {
   "cell_type": "code",
   "execution_count": 6,
   "metadata": {
    "collapsed": false
   },
   "outputs": [],
   "source": [
    "idata = b64decode(r.json()['data'])\n",
    "i = Image.open(BytesIO(idata))"
   ]
  },
  {
   "cell_type": "code",
   "execution_count": 7,
   "metadata": {
    "collapsed": false
   },
   "outputs": [
    {
     "data": {
      "image/png": "[encoded data removed]",
      "text/plain": [
       "<matplotlib.figure.Figure at 0x10feb7160>"
      ]
     },
     "metadata": {},
     "output_type": "display_data"
    }
   ],
   "source": [
    "plt.figure(figsize=(8,18))\n",
    "plt.imshow(i)\n",
    "plt.show()"
   ]
  },
  {
   "cell_type": "markdown",
   "metadata": {},
   "source": [
    "### Model building\n",
    "\n",
    "The model-building URL is displayed in modelr, on the page https://www.modelr.io/model_builder (subscription only).\n",
    "\n",
    "Here's an example of a URL call againt the model-building endpoint:"
   ]
  },
  {
   "cell_type": "markdown",
   "metadata": {},
   "source": [
    "https://www.modelr.org/plot.json?script=slab_builder.py&interface_depth=80&x_samples=350&margin=50&left=0%2C40&right=30%2C130&layers=3&type=model_builder"
   ]
  },
  {
   "cell_type": "markdown",
   "metadata": {},
   "source": [
    "This URL returns a JSON containing only a base64-encoded PNG — the model of the earth.\n",
    "\n",
    "Let's look at some actual code."
   ]
  },
  {
   "cell_type": "code",
   "execution_count": 8,
   "metadata": {
    "collapsed": false
   },
   "outputs": [],
   "source": [
    "url = 'https://www.modelr.org/plot.json'\n",
    "\n",
    "params = { 'script': 'slab_builder.py',\n",
    "           'interface_depth': 80,\n",
    "           'x_samples': 350,\n",
    "           'margin': 50,\n",
    "           'left': '0,40',\n",
    "           'right': '30,130',\n",
    "           'layers': 3,\n",
    "           'type': \"model_builder\"\n",
    "         }"
   ]
  },
  {
   "cell_type": "code",
   "execution_count": 9,
   "metadata": {
    "collapsed": false
   },
   "outputs": [
    {
     "name": "stderr",
     "output_type": "stream",
     "text": [
      "/Users/matt/anaconda/envs/python3/lib/python3.5/site-packages/requests/packages/urllib3/connectionpool.py:838: InsecureRequestWarning: Unverified HTTPS request is being made. Adding certificate verification is strongly advised. See: https://urllib3.readthedocs.io/en/latest/security.html\n",
      "  InsecureRequestWarning)\n"
     ]
    }
   ],
   "source": [
    "r = requests.get(url, params, verify=False)"
   ]
  },
  {
   "cell_type": "code",
   "execution_count": 10,
   "metadata": {
    "collapsed": false
   },
   "outputs": [],
   "source": [
    "data = r.json()['data']\n",
    "idata = b64decode(data)"
   ]
  },
  {
   "cell_type": "code",
   "execution_count": 11,
   "metadata": {
    "collapsed": false
   },
   "outputs": [],
   "source": [
    "i = Image.open(BytesIO(idata))"
   ]
  },
  {
   "cell_type": "code",
   "execution_count": 12,
   "metadata": {
    "collapsed": false
   },
   "outputs": [
    {
     "data": {
      "image/png": "[encoded data removed]",
      "text/plain": [
       "<matplotlib.figure.Figure at 0x10fec9ba8>"
      ]
     },
     "metadata": {},
     "output_type": "display_data"
    }
   ],
   "source": [
    "plt.imshow(i)\n",
    "plt.show()"
   ]
  },
  {
   "cell_type": "markdown",
   "metadata": {},
   "source": [
    "### Forward model"
   ]
  },
  {
   "cell_type": "markdown",
   "metadata": {},
   "source": [
    "Actually... I don't think there's an easy way to do this right now.\n",
    "\n",
    "We really need to be able to do the following:\n",
    "\n",
    "- Make a 2D or 3D wedge model\n",
    "- Send that model back with some seismic parameters and get a synthetic back\n",
    "- Get the synthetic, or part of it, as a SEG-Y\n"
   ]
  },
  {
   "cell_type": "code",
   "execution_count": 13,
   "metadata": {
    "collapsed": false
   },
   "outputs": [],
   "source": [
    "params = {\n",
    "  'earth_model': {\n",
    "       'domain': 'time',\n",
    "       'theta': [0, 3, 6, 9, 12, 15, 18, 21, 24, 27, 30],\n",
    "       'zrange': 1000,\n",
    "       'image': data,\n",
    "       'image_key': None,\n",
    "       'mapping': {\n",
    "            'rgb(110,110,150)': {\n",
    "                'db_key': None,\n",
    "                'description': 'none',\n",
    "                'fluid': None,\n",
    "                'kclay': 25000000000,\n",
    "                'kqtz': 37000000000,\n",
    "                'name': 'Hard shale',\n",
    "                'phi': 0.2,\n",
    "                'rho': 2750,\n",
    "                'rho_std': 50,\n",
    "                'vclay': 0.5,\n",
    "                'vp': 5000,\n",
    "                'vp_std': 50,\n",
    "                'vs': 3165,\n",
    "                'vs_std': 50},\n",
    "            'rgb(110,150,110)': {\n",
    "                'db_key': None,\n",
    "                'description': 'None',\n",
    "                'fluid': {\n",
    "                    'db_key': None,\n",
    "                    'description': 'description',\n",
    "                    'k_hc': 200000000,\n",
    "                    'k_w': 2200000000,\n",
    "                    'name': 'Gas',\n",
    "                    'rho_hc': 250,\n",
    "                    'rho_w': 250,\n",
    "                    'sw': 0.3},\n",
    "                'kclay': 25000000000,\n",
    "                'kqtz': 37000000000,\n",
    "                'name': 'Sand (Gas filled)',\n",
    "                'phi': 0.2,\n",
    "                'rho': 2070,\n",
    "                'rho_std': 50,\n",
    "                'vclay': 0.5,\n",
    "                'vp': 1650,\n",
    "                'vp_std': 50,\n",
    "                'vs': 1090,\n",
    "                'vs_std': 50},\n",
    "            'rgb(150,110,110)': {\n",
    "                'db_key': None,\n",
    "                'description': 'description',\n",
    "                'fluid': None,\n",
    "                'kclay': 25000000000,\n",
    "                'kqtz': 37000000000,\n",
    "                'name': 'Soft shale',\n",
    "                'phi': 0.2,\n",
    "                'rho': 2340,\n",
    "                'rho_std': 50,\n",
    "                'vclay': 0.5,\n",
    "                'vp': 3240,\n",
    "                'vp_std': 50,\n",
    "                'vs': 1620,\n",
    "                'vs_std': 50\n",
    "            }\n",
    "        },\n",
    "    },\n",
    "    'offset': 1,\n",
    "    'trace': 1,\n",
    "    'seismic': {\n",
    "        'dt': 0.001,\n",
    "        'frequency': 20.72462090190231,\n",
    "        'phase': 0,\n",
    "        'snr': 50,\n",
    "        'wavelet': 'ricker'\n",
    "    }\n",
    "}"
   ]
  },
  {
   "cell_type": "code",
   "execution_count": 14,
   "metadata": {
    "collapsed": false
   },
   "outputs": [],
   "source": [
    "import json\n",
    "j = json.dumps(params)"
   ]
  },
  {
   "cell_type": "code",
   "execution_count": 15,
   "metadata": {
    "collapsed": false
   },
   "outputs": [
    {
     "name": "stderr",
     "output_type": "stream",
     "text": [
      "/Users/matt/anaconda/envs/python3/lib/python3.5/site-packages/requests/packages/urllib3/connectionpool.py:838: InsecureRequestWarning: Unverified HTTPS request is being made. Adding certificate verification is strongly advised. See: https://urllib3.readthedocs.io/en/latest/security.html\n",
      "  InsecureRequestWarning)\n"
     ]
    }
   ],
   "source": [
    "r = requests.get(url, j, verify=False)"
   ]
  },
  {
   "cell_type": "code",
   "execution_count": 16,
   "metadata": {
    "collapsed": false
   },
   "outputs": [
    {
     "data": {
      "text/plain": [
       "400"
      ]
     },
     "execution_count": 16,
     "metadata": {},
     "output_type": "execute_result"
    }
   ],
   "source": [
    "r.status_code"
   ]
  },
  {
   "cell_type": "markdown",
   "metadata": {},
   "source": [
    "Damn."
   ]
  },
  {
   "cell_type": "code",
   "execution_count": null,
   "metadata": {
    "collapsed": true
   },
   "outputs": [],
   "source": []
  }
 ],
 "metadata": {
  "kernelspec": {
   "display_name": "Python 3",
   "language": "python",
   "name": "python3"
  },
  "language_info": {
   "codemirror_mode": {
    "name": "ipython",
    "version": 3
   },
   "file_extension": ".py",
   "mimetype": "text/x-python",
   "name": "python",
   "nbconvert_exporter": "python",
   "pygments_lexer": "ipython3",
   "version": "3.5.2"
  }
 },
 "nbformat": 4,
 "nbformat_minor": 0
}

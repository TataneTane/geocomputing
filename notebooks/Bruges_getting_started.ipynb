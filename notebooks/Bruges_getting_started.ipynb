{
 "cells": [
  {
   "cell_type": "markdown",
   "metadata": {},
   "source": [
    "# Getting started with Bruges"
   ]
  },
  {
   "cell_type": "markdown",
   "metadata": {},
   "source": [
    "This notebook accompanies [a blog post on agilegeoscience.com](http://www.agilegeoscience.com/blog/). \n",
    "\n",
    "You need to install Bruges to run this notebook. You can clone the repository on GitHub or if you have pip installed, in a terminal you can do,\n",
    "\n",
    "    pip install bruges\n",
    "\n",
    "This notebook also requires Welly, which you can install like so:\n",
    "\n",
    "    pip install welly"
   ]
  },
  {
   "cell_type": "code",
   "execution_count": 1,
   "metadata": {
    "collapsed": false
   },
   "outputs": [
    {
     "data": {
      "text/plain": [
       "'0.2.2'"
      ]
     },
     "execution_count": 1,
     "metadata": {},
     "output_type": "execute_result"
    }
   ],
   "source": [
    "import bruges as b\n",
    "b.__version__"
   ]
  },
  {
   "cell_type": "code",
   "execution_count": 2,
   "metadata": {
    "collapsed": false
   },
   "outputs": [],
   "source": [
    "import numpy as np\n",
    "import matplotlib.pyplot as plt\n",
    "%matplotlib inline"
   ]
  },
  {
   "cell_type": "markdown",
   "metadata": {},
   "source": [
    "<hr />"
   ]
  },
  {
   "cell_type": "markdown",
   "metadata": {},
   "source": [
    "## AVO calculations\n",
    "\n",
    "### Offset dependent reflectivity"
   ]
  },
  {
   "cell_type": "markdown",
   "metadata": {},
   "source": [
    "|  | Vp [m/s] | Vs [m/s] | Density [kg/m3] |  \n",
    "|-------------|----------|----------|----------|\n",
    "| upper layer | 3300 | 1500 | 2400 |\n",
    "| lower layer | 3050 | 1400 | 2075 |"
   ]
  },
  {
   "cell_type": "code",
   "execution_count": 3,
   "metadata": {
    "collapsed": false
   },
   "outputs": [],
   "source": [
    "# Upper layer rock properties\n",
    "vp1 = 3300.0\n",
    "vs1 = 1500.0\n",
    "rho1 = 2400.0\n",
    "\n",
    "# Lower layer rock properties\n",
    "vp2 = 3050.0\n",
    "vs2 = 1400.0\n",
    "rho2 = 2075.0"
   ]
  },
  {
   "cell_type": "code",
   "execution_count": 4,
   "metadata": {
    "collapsed": false
   },
   "outputs": [
    {
     "data": {
      "text/plain": [
       "-0.11199577706417983"
      ]
     },
     "execution_count": 4,
     "metadata": {},
     "output_type": "execute_result"
    }
   ],
   "source": [
    "rc_0 = b.reflection.akirichards(vp1, vs1, rho1, vp2, vs2, rho2, theta1=0)\n",
    "rc_0"
   ]
  },
  {
   "cell_type": "markdown",
   "metadata": {},
   "source": [
    "It'll be more conventient to use list unpacking:"
   ]
  },
  {
   "cell_type": "code",
   "execution_count": 5,
   "metadata": {
    "collapsed": false
   },
   "outputs": [],
   "source": [
    "rock1 = [vp1, vs1, rho1]\n",
    "rock2 = [vp2, vs2, rho2]"
   ]
  },
  {
   "cell_type": "code",
   "execution_count": 6,
   "metadata": {
    "collapsed": false
   },
   "outputs": [
    {
     "data": {
      "text/plain": [
       "-0.11199577706417983"
      ]
     },
     "execution_count": 6,
     "metadata": {},
     "output_type": "execute_result"
    }
   ],
   "source": [
    "rc_0 = b.reflection.akirichards(*rock1, *rock2, theta1=0)\n",
    "rc_0"
   ]
  },
  {
   "cell_type": "code",
   "execution_count": 7,
   "metadata": {
    "collapsed": false
   },
   "outputs": [
    {
     "data": {
      "text/plain": [
       "-0.096520698009549363"
      ]
     },
     "execution_count": 7,
     "metadata": {},
     "output_type": "execute_result"
    }
   ],
   "source": [
    "rc_30 = b.reflection.akirichards(*rock1, *rock2, theta1=30)\n",
    "rc_30"
   ]
  },
  {
   "cell_type": "markdown",
   "metadata": {},
   "source": [
    "We can also get the individual terms of Shuey's linear approximation:"
   ]
  },
  {
   "cell_type": "code",
   "execution_count": 8,
   "metadata": {
    "collapsed": false,
    "scrolled": true
   },
   "outputs": [
    {
     "data": {
      "text/plain": [
       "(-0.11199577706417983, 0.019688936025916742)"
      ]
     },
     "execution_count": 8,
     "metadata": {},
     "output_type": "execute_result"
    }
   ],
   "source": [
    "rc_terms = b.reflection.shuey2(*rock1, *rock2, theta1=30, terms=True)\n",
    "rc_terms"
   ]
  },
  {
   "cell_type": "markdown",
   "metadata": {},
   "source": [
    "The second term is the product of gradient and $sin^2 \\theta$. So we can compute the gradient from this:"
   ]
  },
  {
   "cell_type": "code",
   "execution_count": 9,
   "metadata": {
    "collapsed": false
   },
   "outputs": [
    {
     "data": {
      "text/plain": [
       "(-0.11199577706417983, 0.07875574410366698)"
      ]
     },
     "execution_count": 9,
     "metadata": {},
     "output_type": "execute_result"
    }
   ],
   "source": [
    "intercept = rc_terms[0]\n",
    "gradient = rc_terms[1] / np.sin(np.radians(30))**2\n",
    "intercept, gradient"
   ]
  },
  {
   "cell_type": "markdown",
   "metadata": {},
   "source": [
    "You can equally well pass in a list of angles,"
   ]
  },
  {
   "cell_type": "code",
   "execution_count": 10,
   "metadata": {
    "collapsed": false
   },
   "outputs": [
    {
     "data": {
      "text/plain": [
       "array([-0.11199578, -0.10982911, -0.10398651, -0.0965207 ])"
      ]
     },
     "execution_count": 10,
     "metadata": {},
     "output_type": "execute_result"
    }
   ],
   "source": [
    "theta_list = [0, 10, 20, 30]\n",
    "rc_list = b.reflection.akirichards(*rock1, *rock2, theta1=theta_list)\n",
    "rc_list"
   ]
  },
  {
   "cell_type": "markdown",
   "metadata": {},
   "source": [
    "Create an array of angles from 0 to 70, incremented by 1,"
   ]
  },
  {
   "cell_type": "code",
   "execution_count": 11,
   "metadata": {
    "collapsed": false
   },
   "outputs": [],
   "source": [
    "theta_range = np.arange(0, 70)"
   ]
  },
  {
   "cell_type": "code",
   "execution_count": 12,
   "metadata": {
    "collapsed": false
   },
   "outputs": [],
   "source": [
    "rc_range = b.reflection.akirichards(*rock1, *rock2, theta1=theta_range)"
   ]
  },
  {
   "cell_type": "markdown",
   "metadata": {},
   "source": [
    "Compare the two-term Aki-Richards approximation with the full Zoeprittz equation for a interface between two rocks:"
   ]
  },
  {
   "cell_type": "code",
   "execution_count": 13,
   "metadata": {
    "collapsed": false
   },
   "outputs": [],
   "source": [
    "rc_z = b.reflection.zoeppritz_rpp(*rock1, *rock2, theta1=theta_range)"
   ]
  },
  {
   "cell_type": "markdown",
   "metadata": {},
   "source": [
    "Put all this data on an AVO plot:"
   ]
  },
  {
   "cell_type": "code",
   "execution_count": 14,
   "metadata": {
    "collapsed": false
   },
   "outputs": [
    {
     "data": {
      "image/png": "[encoded data removed]",
      "text/plain": [
       "<matplotlib.figure.Figure at 0x110dbd780>"
      ]
     },
     "metadata": {},
     "output_type": "display_data"
    }
   ],
   "source": [
    "style = {'color': 'blue',\n",
    "         'fontsize': 10,\n",
    "         'ha':'left',\n",
    "         'va':'top',}\n",
    "\n",
    "fig = plt.figure(figsize=(12,5))\n",
    "\n",
    "# AVO plot\n",
    "ax1 = fig.add_subplot(121)\n",
    "ax1.plot(theta_range, rc_z, 'k', lw=3, alpha=0.25, label='Zoeppritz')\n",
    "ax1.plot(theta_range, rc_range, 'k.', lw=3, alpha=0.5, label='Aki-Richards')\n",
    "\n",
    "# We'll also add the four angles...\n",
    "ax1.plot(theta_list, rc_list, 'bo', ms=10, alpha = 0.5)\n",
    "\n",
    "# Putting some annotations on the plot.\n",
    "for theta, rc in zip(theta_list, rc_list):\n",
    "    ax1.text(theta, rc-0.004, '{:.3f}'.format(rc), **style)\n",
    "\n",
    "ax1.legend()\n",
    "ax1.set_ylim((-0.15, -0.05))\n",
    "ax1.set_xlabel('Angle (degrees)')\n",
    "ax1.set_ylabel('Amplitude')\n",
    "ax1.grid()\n",
    "\n",
    "# Intercept-Gradient crossplot.\n",
    "ax2 = fig.add_subplot(122)\n",
    "ax2.plot(intercept, gradient, 'bo', ms=10, alpha = 0.5)\n",
    "\n",
    "# Put spines for x and y axis.\n",
    "ax2.axvline(0, color='k')\n",
    "ax2.axhline(0, color='k')\n",
    "\n",
    "# Set square axes limits.\n",
    "mx = 0.25\n",
    "ax2.set_xlim((-mx, mx))\n",
    "ax2.set_ylim((-mx, mx))\n",
    "\n",
    "# Label the axes and add gridlines.\n",
    "ax2.set_xlabel('Intercept')\n",
    "ax2.set_ylabel('Gradient')\n",
    "ax2.grid()\n",
    "\n",
    "plt.show()"
   ]
  },
  {
   "cell_type": "markdown",
   "metadata": {},
   "source": [
    "<hr />"
   ]
  },
  {
   "cell_type": "markdown",
   "metadata": {},
   "source": [
    "## Elastic moduli calculations"
   ]
  },
  {
   "cell_type": "markdown",
   "metadata": {},
   "source": [
    "Say I want to compute the Lamé parameters &#955; and &#181;, from V<sub>P</sub>, V<sub>S</sub>, and Density. As long as my inputs are in SI units, I can insert these values directly:"
   ]
  },
  {
   "cell_type": "markdown",
   "metadata": {},
   "source": [
    "|  | Vp [m/s] | Vs [m/s] | Density [kg/m3] |\n",
    "|-------------|----------|----------|----------|\n",
    "| upper layer | 3300 | 1500 | 2400 |\n",
    "| lower layer | 3050 | 1400 | 2075 |"
   ]
  },
  {
   "cell_type": "code",
   "execution_count": 15,
   "metadata": {
    "collapsed": false
   },
   "outputs": [
    {
     "data": {
      "text/plain": [
       "(15336000000.0, 5400000000.0)"
      ]
     },
     "execution_count": 15,
     "metadata": {},
     "output_type": "execute_result"
    }
   ],
   "source": [
    "# Upper layer only\n",
    "b.rockphysics.lam(*rock1), b.rockphysics.mu(*rock1)"
   ]
  },
  {
   "cell_type": "markdown",
   "metadata": {},
   "source": [
    "We can print all the values in terms of GPa ($\\times 10^9$ Pa)"
   ]
  },
  {
   "cell_type": "code",
   "execution_count": 16,
   "metadata": {
    "collapsed": false
   },
   "outputs": [
    {
     "name": "stdout",
     "output_type": "stream",
     "text": [
      "Upper layer\n",
      "lambda [GPa]: 15.34\n",
      "    mu [GPa]: 5.40\n",
      "\n",
      "Lower layer\n",
      "lambda [GPa]: 11.17\n",
      "    mu [GPa]: 4.07\n"
     ]
    }
   ],
   "source": [
    "print('Upper layer')\n",
    "print('lambda [GPa]: {:.2f}'.format(b.rockphysics.lam(*rock1) / 1e9))\n",
    "print('    mu [GPa]: {:.2f}'.format(b.rockphysics.mu(*rock1) / 1e9))\n",
    "print('\\nLower layer')\n",
    "print('lambda [GPa]: {:.2f}'.format(b.rockphysics.lam(*rock2) / 1e9))\n",
    "print('    mu [GPa]: {:.2f}'.format(b.rockphysics.mu(*rock2) / 1e9))"
   ]
  },
  {
   "cell_type": "markdown",
   "metadata": {},
   "source": [
    "<hr />"
   ]
  },
  {
   "cell_type": "markdown",
   "metadata": {},
   "source": [
    "## Rock property analysis and crossplotting"
   ]
  },
  {
   "cell_type": "code",
   "execution_count": 1,
   "metadata": {
    "collapsed": false
   },
   "outputs": [
    {
     "data": {
      "text/plain": [
       "'0.3.1'"
      ]
     },
     "execution_count": 1,
     "metadata": {},
     "output_type": "execute_result"
    }
   ],
   "source": [
    "import matplotlib.pyplot as plt\n",
    "import numpy as np\n",
    "import bruges as b\n",
    "%matplotlib inline\n",
    "\n",
    "import welly\n",
    "welly.__version__"
   ]
  },
  {
   "cell_type": "code",
   "execution_count": 2,
   "metadata": {
    "collapsed": false
   },
   "outputs": [],
   "source": [
    "w = welly.Well.from_las('../data/L-30.las')"
   ]
  },
  {
   "cell_type": "code",
   "execution_count": 3,
   "metadata": {
    "collapsed": false
   },
   "outputs": [
    {
     "data": {
      "text/html": [
       "<table><tr><th>Idx</th><th>UWI</th><th>Data</th><th>Quality</th><th>ILM</th><th>LL8</th><th>SP</th><th>NPHILS</th><th>ILD</th><th>CALS</th><th>NPHISS</th><th>GRS</th><th>CALD</th><th>RHOB</th><th>DRHO</th><th>DT</th><th>GRD</th></tr><tr><td></td><td></td><td></td><td>%</td><td>1/1&nbsp;wells</td><td>1/1&nbsp;wells</td><td>1/1&nbsp;wells</td><td>1/1&nbsp;wells</td><td>1/1&nbsp;wells</td><td>1/1&nbsp;wells</td><td>1/1&nbsp;wells</td><td>1/1&nbsp;wells</td><td>1/1&nbsp;wells</td><td>1/1&nbsp;wells</td><td>1/1&nbsp;wells</td><td>1/1&nbsp;wells</td><td>1/1&nbsp;wells</td></tr><td>0</td><td><span style=\"font-weight:bold;\"></span></td><td>13/13&nbsp;curves</td><td>0</td><td style=\"background-color:#CCEECC; line-height:80%; padding:5px 4px 2px 4px;\">ILM<div title=\"0\" style=\"font-size:80%; float:right; cursor: default; padding:4px 0px 4px 6px; color:#FF3333;\"></div><br /><span style=\"font-size:70%; color:#33AA33\">41.37 OHMM</span></td><td style=\"background-color:#CCEECC; line-height:80%; padding:5px 4px 2px 4px;\">LL8<div title=\"0\" style=\"font-size:80%; float:right; cursor: default; padding:4px 0px 4px 6px; color:#FF3333;\"></div><br /><span style=\"font-size:70%; color:#33AA33\">36.44 OHMM</span></td><td style=\"background-color:#CCEECC; line-height:80%; padding:5px 4px 2px 4px;\">SP<div title=\"0\" style=\"font-size:80%; float:right; cursor: default; padding:4px 0px 4px 6px; color:#FF3333;\"></div><br /><span style=\"font-size:70%; color:#33AA33\">-104.37 MV</span></td><td style=\"background-color:#CCEECC; line-height:80%; padding:5px 4px 2px 4px;\">NPHILS<div title=\"0\" style=\"font-size:80%; float:right; cursor: default; padding:4px 0px 4px 6px; color:#FF3333;\"></div><br /><span style=\"font-size:70%; color:#33AA33\">0.14 V/V</span></td><td style=\"background-color:#CCEECC; line-height:80%; padding:5px 4px 2px 4px;\">ILD<div title=\"0\" style=\"font-size:80%; float:right; cursor: default; padding:4px 0px 4px 6px; color:#FF3333;\"></div><br /><span style=\"font-size:70%; color:#33AA33\">35.40 OHMM</span></td><td style=\"background-color:#CCEECC; line-height:80%; padding:5px 4px 2px 4px;\">CALS<div title=\"0\" style=\"font-size:80%; float:right; cursor: default; padding:4px 0px 4px 6px; color:#FF3333;\"></div><br /><span style=\"font-size:70%; color:#33AA33\">10.47 IN</span></td><td style=\"background-color:#CCEECC; line-height:80%; padding:5px 4px 2px 4px;\">NPHISS<div title=\"0\" style=\"font-size:80%; float:right; cursor: default; padding:4px 0px 4px 6px; color:#FF3333;\"></div><br /><span style=\"font-size:70%; color:#33AA33\">0.35 V/V</span></td><td style=\"background-color:#CCEECC; line-height:80%; padding:5px 4px 2px 4px;\">GRS<div title=\"0\" style=\"font-size:80%; float:right; cursor: default; padding:4px 0px 4px 6px; color:#FF3333;\"></div><br /><span style=\"font-size:70%; color:#33AA33\">57.30 GAPI</span></td><td style=\"background-color:#CCEECC; line-height:80%; padding:5px 4px 2px 4px;\">CALD<div title=\"0\" style=\"font-size:80%; float:right; cursor: default; padding:4px 0px 4px 6px; color:#FF3333;\"></div><br /><span style=\"font-size:70%; color:#33AA33\">11.12 IN</span></td><td style=\"background-color:#CCEECC; line-height:80%; padding:5px 4px 2px 4px;\">RHOB<div title=\"0\" style=\"font-size:80%; float:right; cursor: default; padding:4px 0px 4px 6px; color:#FF3333;\"></div><br /><span style=\"font-size:70%; color:#33AA33\">2.44 G/CC</span></td><td style=\"background-color:#CCEECC; line-height:80%; padding:5px 4px 2px 4px;\">DRHO<div title=\"0\" style=\"font-size:80%; float:right; cursor: default; padding:4px 0px 4px 6px; color:#FF3333;\"></div><br /><span style=\"font-size:70%; color:#33AA33\">0.07 G/CC</span></td><td style=\"background-color:#CCEECC; line-height:80%; padding:5px 4px 2px 4px;\">DT<div title=\"0\" style=\"font-size:80%; float:right; cursor: default; padding:4px 0px 4px 6px; color:#FF3333;\"></div><br /><span style=\"font-size:70%; color:#33AA33\">94.76 US/F</span></td><td style=\"background-color:#CCEECC; line-height:80%; padding:5px 4px 2px 4px;\">GRD<div title=\"0\" style=\"font-size:80%; float:right; cursor: default; padding:4px 0px 4px 6px; color:#FF3333;\"></div><br /><span style=\"font-size:70%; color:#33AA33\">59.71 GAPI</span></td></tr></table>"
      ],
      "text/plain": [
       "<IPython.core.display.HTML object>"
      ]
     },
     "execution_count": 3,
     "metadata": {},
     "output_type": "execute_result"
    }
   ],
   "source": [
    "p = welly.Project([w])\n",
    "from IPython.display import HTML\n",
    "HTML(p.curve_table_html())"
   ]
  },
  {
   "cell_type": "markdown",
   "metadata": {},
   "source": [
    "Convert everything to SI units:"
   ]
  },
  {
   "cell_type": "code",
   "execution_count": 4,
   "metadata": {
    "collapsed": false
   },
   "outputs": [],
   "source": [
    "dt = w.data['DT']\n",
    "rhob = w.data['RHOB']\n",
    "z = dt.basis * 0.3048\n",
    "\n",
    "vp =  1e6 / (3.28084 * dt)\n",
    "vp.units = 'm/s'\n",
    "vs = (vp - 1360) / 1.16  # Castanga model\n",
    "rhob *= 1000\n",
    "rhob.units = 'kg/m3'"
   ]
  },
  {
   "cell_type": "code",
   "execution_count": 5,
   "metadata": {
    "collapsed": false
   },
   "outputs": [],
   "source": [
    "lm = b.rockphysics.lam(vp, vs, rhob)\n",
    "mu = b.rockphysics.mu(vp, vs, rhob)"
   ]
  },
  {
   "cell_type": "markdown",
   "metadata": {},
   "source": [
    "Create a crossplot:"
   ]
  },
  {
   "cell_type": "code",
   "execution_count": 6,
   "metadata": {
    "collapsed": false
   },
   "outputs": [
    {
     "data": {
      "image/png": "[encoded data removed]",
      "text/plain": [
       "<matplotlib.figure.Figure at 0x115ef7ac8>"
      ]
     },
     "metadata": {},
     "output_type": "display_data"
    }
   ],
   "source": [
    "plt.figure(figsize=(7,6))\n",
    "\n",
    "plt.scatter(lm*rhob, mu*rhob,\n",
    "            s=30,  # marker size\n",
    "            color=z, cmap=\"gist_earth_r\",\n",
    "            edgecolor='none',\n",
    "            alpha = 0.1)\n",
    "\n",
    "# Give the plot a colorbar.\n",
    "cb = plt.colorbar()\n",
    "cb.ax.invert_yaxis()\n",
    "cb.set_label(\"Depth [m]\")\n",
    "\n",
    "# Give the plot some annotation.\n",
    "plt.xlabel(r'$\\lambda \\rho$', size=18)\n",
    "plt.ylabel(r'$\\mu \\rho$', size=18)\n",
    "plt.grid()"
   ]
  },
  {
   "cell_type": "markdown",
   "metadata": {},
   "source": [
    "<hr />"
   ]
  },
  {
   "cell_type": "markdown",
   "metadata": {},
   "source": [
    "## Backus averaging"
   ]
  },
  {
   "cell_type": "code",
   "execution_count": 7,
   "metadata": {
    "collapsed": true
   },
   "outputs": [],
   "source": [
    "lb = 60       # Backus averaging length in metres.\n",
    "dz = 0.1524   # Sample interval of the log in metres."
   ]
  },
  {
   "cell_type": "code",
   "execution_count": 8,
   "metadata": {
    "collapsed": false
   },
   "outputs": [],
   "source": [
    "lam = b.rockphysics.lam(vp, vs, rhob)\n",
    "mu = b.rockphysics.mu(vp, vs, rhob)"
   ]
  },
  {
   "cell_type": "code",
   "execution_count": 9,
   "metadata": {
    "collapsed": false
   },
   "outputs": [
    {
     "data": {
      "text/html": [
       "<table><tr><th style=\"text-align:center;\" colspan=\"2\">RHOB [kg/m3]</th></tr><tr><td style=\"text-align:center;\" colspan=\"2\">347.4720 : 4252.1124 : 0.1524</td></tr><tr><td><strong>code</strong></td><td></td></tr><tr><td><strong>run</strong></td><td>None</td></tr><tr><td><strong>null</strong></td><td>-999.0</td></tr><tr><td><strong>date</strong></td><td>08/24/2011</td></tr><tr><td><strong>service_company</strong></td><td>SCH</td></tr><tr><th style=\"border-top: 2px solid #000; text-align:center;\" colspan=\"2\"><strong>Stats</strong></th></tr><tr><td><strong>samples (NaNs)</strong></td><td>25621 (3927)</td></tr><tr><td><strong><sub>min</sub> mean <sup>max</sup></strong></td><td><sub>7524304181.68</sub> 37435079135.661 <sup>161230242754.81</sup></td></tr><tr><th style=\"border-top: 2px solid #000;\">Depth</th><th style=\"border-top: 2px solid #000;\">Value</th></tr><tr><td>347.4720</td><td>nan</td></tr><tr><td>347.6244</td><td>nan</td></tr><tr><td>347.7768</td><td>nan</td></tr><tr><td>⋮</td><td>⋮</td></tr><tr><td>4251.6552</td><td>nan</td></tr><tr><td>4251.8076</td><td>nan</td></tr><tr><td>4251.9600</td><td>nan</td></tr></table>"
      ],
      "text/plain": [
       "Curve([ nan,  nan,  nan, ...,  nan,  nan,  nan])"
      ]
     },
     "execution_count": 9,
     "metadata": {},
     "output_type": "execute_result"
    }
   ],
   "source": [
    "a = rhob * np.power(vp, 2.0)\n",
    "\n",
    "a"
   ]
  },
  {
   "cell_type": "code",
   "execution_count": 10,
   "metadata": {
    "collapsed": true
   },
   "outputs": [],
   "source": [
    "x = mu*(lam+mu)/a"
   ]
  },
  {
   "cell_type": "code",
   "execution_count": 11,
   "metadata": {
    "collapsed": false
   },
   "outputs": [
    {
     "data": {
      "text/plain": [
       "[<matplotlib.lines.Line2D at 0x1130d6d30>]"
      ]
     },
     "execution_count": 11,
     "metadata": {},
     "output_type": "execute_result"
    },
    {
     "data": {
      "image/png": "[encoded data removed]",
      "text/plain": [
       "<matplotlib.figure.Figure at 0x112350f60>"
      ]
     },
     "metadata": {},
     "output_type": "display_data"
    }
   ],
   "source": [
    "plt.plot(x)"
   ]
  },
  {
   "cell_type": "code",
   "execution_count": 12,
   "metadata": {
    "collapsed": false
   },
   "outputs": [],
   "source": [
    "from bruges.util import moving_average\n",
    "\n",
    "x = 4 * moving_average(mu*(lam+mu)/a, lb/dz, mode='same')"
   ]
  },
  {
   "cell_type": "code",
   "execution_count": 13,
   "metadata": {
    "collapsed": false
   },
   "outputs": [
    {
     "data": {
      "text/plain": [
       "27304977963.64922"
      ]
     },
     "execution_count": 13,
     "metadata": {},
     "output_type": "execute_result"
    }
   ],
   "source": [
    "np.nanmean(x)"
   ]
  },
  {
   "cell_type": "code",
   "execution_count": null,
   "metadata": {
    "collapsed": true
   },
   "outputs": [],
   "source": []
  },
  {
   "cell_type": "code",
   "execution_count": 14,
   "metadata": {
    "collapsed": false
   },
   "outputs": [
    {
     "data": {
      "text/plain": [
       "array([  0.00000000e+00,   0.00000000e+00,   0.00000000e+00, ...,\n",
       "         2.44204746e+09,   2.41957542e+09,   2.39718318e+09])"
      ]
     },
     "execution_count": 14,
     "metadata": {},
     "output_type": "execute_result"
    }
   ],
   "source": [
    "moving_average(mu*(lam+mu)/a, lb/dz, mode='same')"
   ]
  },
  {
   "cell_type": "code",
   "execution_count": 15,
   "metadata": {
    "collapsed": false
   },
   "outputs": [
    {
     "data": {
      "text/plain": [
       "[<matplotlib.lines.Line2D at 0x112369048>]"
      ]
     },
     "execution_count": 15,
     "metadata": {},
     "output_type": "execute_result"
    },
    {
     "data": {
      "image/png": "[encoded data removed]",
      "text/plain": [
       "<matplotlib.figure.Figure at 0x113003a58>"
      ]
     },
     "metadata": {},
     "output_type": "display_data"
    }
   ],
   "source": [
    "plt.plot(np.pad(rhob, 20, mode='edge'))"
   ]
  },
  {
   "cell_type": "code",
   "execution_count": 16,
   "metadata": {
    "collapsed": false
   },
   "outputs": [
    {
     "ename": "IndexError",
     "evalue": "arrays used as indices must be of integer (or boolean) type",
     "output_type": "error",
     "traceback": [
      "\u001b[0;31m---------------------------------------------------------------------------\u001b[0m",
      "\u001b[0;31mIndexError\u001b[0m                                Traceback (most recent call last)",
      "\u001b[0;32m<ipython-input-16-7649daa95e36>\u001b[0m in \u001b[0;36m<module>\u001b[0;34m()\u001b[0m\n\u001b[0;32m----> 1\u001b[0;31m \u001b[0mvp0\u001b[0m\u001b[0;34m,\u001b[0m \u001b[0mvs0\u001b[0m \u001b[0;34m=\u001b[0m \u001b[0mb\u001b[0m\u001b[0;34m.\u001b[0m\u001b[0mrockphysics\u001b[0m\u001b[0;34m.\u001b[0m\u001b[0mbackus\u001b[0m\u001b[0;34m(\u001b[0m\u001b[0mvp\u001b[0m\u001b[0;34m,\u001b[0m \u001b[0mvs\u001b[0m\u001b[0;34m,\u001b[0m \u001b[0mrhob\u001b[0m\u001b[0;34m,\u001b[0m \u001b[0mlb\u001b[0m\u001b[0;34m,\u001b[0m \u001b[0mdz\u001b[0m\u001b[0;34m)\u001b[0m\u001b[0;34m\u001b[0m\u001b[0m\n\u001b[0m",
      "\u001b[0;32m/Users/matt/anaconda/envs/python3/lib/python3.5/site-packages/bruges/rockphysics/anisotropy.py\u001b[0m in \u001b[0;36mbackus\u001b[0;34m(vp, vs, rho, lb, dz)\u001b[0m\n\u001b[1;32m     62\u001b[0m     \"\"\"\n\u001b[1;32m     63\u001b[0m     \u001b[0;31m# Compute the Backus parameters:\u001b[0m\u001b[0;34m\u001b[0m\u001b[0;34m\u001b[0m\u001b[0m\n\u001b[0;32m---> 64\u001b[0;31m     \u001b[0mA\u001b[0m\u001b[0;34m,\u001b[0m \u001b[0mC\u001b[0m\u001b[0;34m,\u001b[0m \u001b[0mF\u001b[0m\u001b[0;34m,\u001b[0m \u001b[0mL\u001b[0m\u001b[0;34m,\u001b[0m \u001b[0mM\u001b[0m \u001b[0;34m=\u001b[0m \u001b[0mbackus_parameters\u001b[0m\u001b[0;34m(\u001b[0m\u001b[0mvp\u001b[0m\u001b[0;34m,\u001b[0m \u001b[0mvs\u001b[0m\u001b[0;34m,\u001b[0m \u001b[0mrho\u001b[0m\u001b[0;34m,\u001b[0m \u001b[0mlb\u001b[0m\u001b[0;34m,\u001b[0m \u001b[0mdz\u001b[0m\u001b[0;34m)\u001b[0m\u001b[0;34m\u001b[0m\u001b[0m\n\u001b[0m\u001b[1;32m     65\u001b[0m \u001b[0;34m\u001b[0m\u001b[0m\n\u001b[1;32m     66\u001b[0m     \u001b[0;31m# Compute the vertical velocities from Liner (2014) equation 5:\u001b[0m\u001b[0;34m\u001b[0m\u001b[0;34m\u001b[0m\u001b[0m\n",
      "\u001b[0;32m/Users/matt/anaconda/envs/python3/lib/python3.5/site-packages/bruges/rockphysics/anisotropy.py\u001b[0m in \u001b[0;36mbackus_parameters\u001b[0;34m(vp, vs, rho, lb, dz)\u001b[0m\n\u001b[1;32m     32\u001b[0m     \u001b[0mx\u001b[0m \u001b[0;34m=\u001b[0m \u001b[0mvp\u001b[0m\u001b[0;34m[\u001b[0m\u001b[0mnp\u001b[0m\u001b[0;34m.\u001b[0m\u001b[0misnan\u001b[0m\u001b[0;34m(\u001b[0m\u001b[0mvp\u001b[0m\u001b[0;34m)\u001b[0m\u001b[0;34m]\u001b[0m\u001b[0;34m\u001b[0m\u001b[0m\n\u001b[1;32m     33\u001b[0m     \u001b[0me\u001b[0m \u001b[0;34m=\u001b[0m \u001b[0;36m1e-9\u001b[0m\u001b[0;34m\u001b[0m\u001b[0m\n\u001b[0;32m---> 34\u001b[0;31m     \u001b[0ma\u001b[0m\u001b[0;34m[\u001b[0m\u001b[0mx\u001b[0m\u001b[0;34m]\u001b[0m \u001b[0;34m=\u001b[0m \u001b[0;36m0\u001b[0m \u001b[0;34m+\u001b[0m \u001b[0me\u001b[0m\u001b[0;34m\u001b[0m\u001b[0m\n\u001b[0m\u001b[1;32m     35\u001b[0m \u001b[0;34m\u001b[0m\u001b[0m\n\u001b[1;32m     36\u001b[0m     \u001b[0;31m# Compute the Backus parameters from Liner (2014) equation 4:\u001b[0m\u001b[0;34m\u001b[0m\u001b[0;34m\u001b[0m\u001b[0m\n",
      "\u001b[0;31mIndexError\u001b[0m: arrays used as indices must be of integer (or boolean) type"
     ]
    }
   ],
   "source": [
    "vp0, vs0 = b.rockphysics.backus(vp, vs, rhob, lb, dz)"
   ]
  },
  {
   "cell_type": "code",
   "execution_count": 17,
   "metadata": {
    "collapsed": false
   },
   "outputs": [
    {
     "name": "stdout",
     "output_type": "stream",
     "text": [
      "8067734304.205273\n",
      "8067734304.21\n",
      "6826244490.91\n",
      "0.4218590788239856\n",
      "0.421859078824\n",
      "0.356991824721\n",
      "3.51670500257529e-11\n",
      "3.51670500258e-11\n",
      "2.9762930325e-11\n",
      "3.51670500257529e-11\n",
      "3.51670500258e-11\n",
      "2.9762930325e-11\n",
      "0.4218590788239856\n",
      "0.421859078824\n",
      "0.356991824721\n",
      "3.51670500257529e-11\n",
      "3.51670500258e-11\n",
      "2.9762930325e-11\n",
      "1.568755182561824e-10\n",
      "1.56875518256e-10\n",
      "1.3278638988e-10\n",
      "12424891296.115108\n",
      "12424891296.1\n",
      "10513284725.3\n"
     ]
    },
    {
     "name": "stderr",
     "output_type": "stream",
     "text": [
      "/Users/matt/anaconda/envs/python3/lib/python3.5/site-packages/bruges/rockphysics/anisotropy.py:36: RuntimeWarning: invalid value encountered in true_divide\n",
      "  / moving_average(1.0/a, lb/dz, mode='same')\n",
      "/Users/matt/anaconda/envs/python3/lib/python3.5/site-packages/bruges/rockphysics/anisotropy.py:37: RuntimeWarning: divide by zero encountered in true_divide\n",
      "  C = 1.0 / moving_average(1.0/a, lb/dz, mode='same')\n",
      "/Users/matt/anaconda/envs/python3/lib/python3.5/site-packages/bruges/rockphysics/anisotropy.py:39: RuntimeWarning: invalid value encountered in true_divide\n",
      "  / moving_average(1.0/a, lb/dz, mode='same')\n",
      "/Users/matt/anaconda/envs/python3/lib/python3.5/site-packages/bruges/rockphysics/anisotropy.py:40: RuntimeWarning: divide by zero encountered in true_divide\n",
      "  L = 1.0 / moving_average(1.0/mu, lb/dz, mode='same')\n"
     ]
    }
   ],
   "source": [
    "A, C, F, L, M  = b.rockphysics.backus_parameters(vp, vs, rhob, lb, dz)"
   ]
  },
  {
   "cell_type": "code",
   "execution_count": 24,
   "metadata": {
    "collapsed": false
   },
   "outputs": [
    {
     "data": {
      "text/plain": [
       "array([             nan,              nan,              nan, ...,\n",
       "         1.49016933e+10,   1.48995000e+10,   1.48966669e+10])"
      ]
     },
     "execution_count": 24,
     "metadata": {},
     "output_type": "execute_result"
    }
   ],
   "source": [
    "F"
   ]
  },
  {
   "cell_type": "code",
   "execution_count": 19,
   "metadata": {
    "collapsed": false
   },
   "outputs": [
    {
     "data": {
      "text/plain": [
       "[<matplotlib.lines.Line2D at 0x11370f978>]"
      ]
     },
     "execution_count": 19,
     "metadata": {},
     "output_type": "execute_result"
    },
    {
     "data": {
      "image/png": "[encoded data removed]",
      "text/plain": [
       "<matplotlib.figure.Figure at 0x1136c02e8>"
      ]
     },
     "metadata": {},
     "output_type": "display_data"
    }
   ],
   "source": [
    "plt.plot(vp0)"
   ]
  },
  {
   "cell_type": "code",
   "execution_count": 21,
   "metadata": {
    "collapsed": false
   },
   "outputs": [
    {
     "data": {
      "text/plain": [
       "array([            inf,             inf,             inf, ...,\n",
       "        10586.56205162,  10663.04797201,  10740.90873457])"
      ]
     },
     "execution_count": 21,
     "metadata": {},
     "output_type": "execute_result"
    }
   ],
   "source": [
    "vp0"
   ]
  },
  {
   "cell_type": "code",
   "execution_count": 20,
   "metadata": {
    "collapsed": false
   },
   "outputs": [
    {
     "data": {
      "image/png": "[encoded data removed]",
      "text/plain": [
       "<matplotlib.figure.Figure at 0x1136d89e8>"
      ]
     },
     "metadata": {},
     "output_type": "display_data"
    }
   ],
   "source": [
    "fs = 8  # control the fontsize\n",
    "\n",
    "fig = plt.figure(figsize=(3,8))\n",
    "\n",
    "ax1 = plt.subplot(111)\n",
    "ax1.plot(vp, z, 'k', alpha=0.25, label='Vp')\n",
    "ax1.plot(vp0, z, 'b', label='Backus average')\n",
    "\n",
    "# Do some plot annotations\n",
    "ax1.set_title('P-velocity')\n",
    "ax1.set_ylabel(r'depth $m$', size=12)\n",
    "ax1.invert_yaxis()\n",
    "#ax1.set_xlim((4000,6200))\n",
    "ax1.set_xlabel(r'Vp $m/s$')\n",
    "ax1.grid()\n",
    "ax1.legend()\n",
    "labels = ax1.get_xticklabels() \n",
    "for label in labels: \n",
    "    label.set_rotation(90) \n",
    "    label.set_fontsize(fs)\n",
    "\n",
    "plt.show()"
   ]
  },
  {
   "cell_type": "markdown",
   "metadata": {},
   "source": [
    "<hr />\n",
    "<img src=\"https://avatars1.githubusercontent.com/u/1692321?v=3&s=200\" style=\"float:right;\" width=\"40px\" /><p style=\"color:gray; float:right;\">© 2015 <a href=\"http://www.agilegeoscience.com/\">Agile Geoscience</a> — <a href=\"https://creativecommons.org/licenses/by/4.0/\">CC-BY</a> — Have fun!&nbsp;&nbsp;&nbsp;</p>"
   ]
  }
 ],
 "metadata": {
  "kernelspec": {
   "display_name": "Python 3",
   "language": "python",
   "name": "python3"
  },
  "language_info": {
   "codemirror_mode": {
    "name": "ipython",
    "version": 3
   },
   "file_extension": ".py",
   "mimetype": "text/x-python",
   "name": "python",
   "nbconvert_exporter": "python",
   "pygments_lexer": "ipython3",
   "version": "3.5.2"
  }
 },
 "nbformat": 4,
 "nbformat_minor": 0
}

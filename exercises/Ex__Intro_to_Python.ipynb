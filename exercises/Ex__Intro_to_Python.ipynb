{
 "cells": [
  {
   "cell_type": "markdown",
   "metadata": {},
   "source": [
    "# EXERCISE: Intro to Python\n",
    "\n",
    "Other great places to pick up Python:\n",
    "\n",
    "- [Learn X in Y minutes](https://learnxinyminutes.com/docs/python3/) — If you just want to get cracking.\n",
    "- [Stavros](https://www.stavros.io/tutorials/python/) — If you want to know a bit more.\n",
    "- [Robert Johansson's lectures](Lecture-1-Introduction-to-Python-Programming.ipynb)\n",
    "- [Tutorials Point](http://www.tutorialspoint.com/python/python_quick_guide.htm) — Another option.\n",
    "- [Code Academy](https://www.codecademy.com/learn/python) — A more sedate pace.\n",
    "- [Udacity Intro to Computer Science](https://www.udacity.com/course/intro-to-computer-science--cs101) — Fantastic but a serious undertaking.\n",
    "- [All the tutorials!](https://wiki.python.org/moin/BeginnersGuide/Programmers)\n",
    "\n",
    "**WARNING** There's still a lot of Python 2 around. Keep away from it if you can! Python 3 has lots of advantages, and there are hardly any libraries now that have not made the swtich.\n",
    "\n",
    "Check you're running Python 3:"
   ]
  },
  {
   "cell_type": "code",
   "execution_count": 1,
   "metadata": {
    "collapsed": false
   },
   "outputs": [
    {
     "name": "stdout",
     "output_type": "stream",
     "text": [
      "Python 3.5.2 :: Continuum Analytics, Inc.\r\n"
     ]
    }
   ],
   "source": [
    "!python -V"
   ]
  },
  {
   "cell_type": "markdown",
   "metadata": {},
   "source": [
    "## Python is...\n",
    "\n",
    "- Not just a scripting language.\n",
    "- Interpreted, not compiled.\n",
    "- Strongly typed — types are enforced.\n",
    "- Dynamically, implicitly typed — you don't have to declare variables.\n",
    "- Case sensitive — var and VAR are two different variables.\n",
    "- Object-oriented — everything is an object.\n",
    "- Supportive of functional and procedural styles."
   ]
  },
  {
   "cell_type": "code",
   "execution_count": null,
   "metadata": {
    "collapsed": true
   },
   "outputs": [],
   "source": [
    "import this"
   ]
  },
  {
   "cell_type": "markdown",
   "metadata": {},
   "source": [
    "## Nice Python\n",
    "\n",
    "- Read [PEP8](https://www.python.org/dev/peps/pep-0008/).\n",
    "- Use an IDE or use a linter in tour text editor (I use Sublime Text).\n",
    "- Think about your users and colleagues and your future self!"
   ]
  },
  {
   "cell_type": "markdown",
   "metadata": {},
   "source": [
    "## Ways to run Python\n",
    "\n",
    "- The REPL, an interactive prompt... especially IPython.\n",
    "- By passing scripts to python.\n",
    "- Jupyter...\n",
    "  - Terminal\n",
    "  - Notebook"
   ]
  },
  {
   "cell_type": "code",
   "execution_count": null,
   "metadata": {
    "collapsed": false
   },
   "outputs": [],
   "source": [
    "import math\n",
    "math.sqrt(10)"
   ]
  },
  {
   "cell_type": "markdown",
   "metadata": {},
   "source": [
    "## Getting help"
   ]
  },
  {
   "cell_type": "code",
   "execution_count": null,
   "metadata": {
    "collapsed": false
   },
   "outputs": [],
   "source": [
    "math.__doc__"
   ]
  },
  {
   "cell_type": "code",
   "execution_count": null,
   "metadata": {
    "collapsed": false
   },
   "outputs": [],
   "source": [
    "help(math)"
   ]
  },
  {
   "cell_type": "code",
   "execution_count": null,
   "metadata": {
    "collapsed": false,
    "scrolled": true
   },
   "outputs": [],
   "source": [
    "dir(math)"
   ]
  },
  {
   "cell_type": "code",
   "execution_count": null,
   "metadata": {
    "collapsed": false,
    "scrolled": true
   },
   "outputs": [],
   "source": [
    "dir(10)"
   ]
  },
  {
   "cell_type": "markdown",
   "metadata": {},
   "source": [
    "We get some extra help from IPython:"
   ]
  },
  {
   "cell_type": "code",
   "execution_count": null,
   "metadata": {
    "collapsed": false
   },
   "outputs": [],
   "source": [
    "math.  # Put your cursor after the dot and hit tab."
   ]
  },
  {
   "cell_type": "code",
   "execution_count": null,
   "metadata": {
    "collapsed": true
   },
   "outputs": [],
   "source": [
    "math.sqrt?"
   ]
  },
  {
   "cell_type": "code",
   "execution_count": null,
   "metadata": {
    "collapsed": true
   },
   "outputs": [],
   "source": []
  },
  {
   "cell_type": "markdown",
   "metadata": {},
   "source": [
    "## Carry on with [Robert Johansson's awesome tutorial](Lecture-1-Introduction-to-Python-Programming.ipynb)\n",
    "\n",
    "## Carry on with the [Learn X in Y minutes](https://learnxinyminutes.com/docs/python3/) tutorial\n",
    "\n",
    "## Carry on with the [Stavros](https://www.stavros.io/tutorials/python/) tutorial"
   ]
  },
  {
   "cell_type": "markdown",
   "metadata": {
    "collapsed": true
   },
   "source": [
    "## Other things\n",
    "\n",
    "* [Learn everything about IPython and the Notebook!](https://nbviewer.jupyter.org/github/ipython/ipython/blob/master/examples/IPython%20Kernel/Index.ipynb) There's a lot to know, but some of it seems a bit un-Pythony to me.\n",
    "* [A really awesome series of notebooks about Python.](http://nbviewer.jupyter.org/github/jrjohansson/scientific-python-lectures/tree/master/)"
   ]
  },
  {
   "cell_type": "code",
   "execution_count": null,
   "metadata": {
    "collapsed": true
   },
   "outputs": [],
   "source": []
  },
  {
   "cell_type": "markdown",
   "metadata": {},
   "source": [
    "<hr />\n",
    "\n",
    "<div>\n",
    "<img src=\"https://avatars1.githubusercontent.com/u/1692321?s=50\"><p style=\"text-align:center\">© Agile Geoscience 2016</p>\n",
    "</div>"
   ]
  }
 ],
 "metadata": {
  "anaconda-cloud": {},
  "kernelspec": {
   "display_name": "Python [python3]",
   "language": "python",
   "name": "Python [python3]"
  },
  "language_info": {
   "codemirror_mode": {
    "name": "ipython",
    "version": 3
   },
   "file_extension": ".py",
   "mimetype": "text/x-python",
   "name": "python",
   "nbconvert_exporter": "python",
   "pygments_lexer": "ipython3",
   "version": "3.5.2"
  }
 },
 "nbformat": 4,
 "nbformat_minor": 0
}

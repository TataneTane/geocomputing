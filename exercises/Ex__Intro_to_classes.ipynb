{
 "cells": [
  {
   "cell_type": "markdown",
   "metadata": {},
   "source": [
    "# EXERCISE: Intro to classes: object oriented Python\n",
    "\n",
    "Everything in Python is an object: variables, raw types, functions, everything.\n",
    "\n",
    "Sometimes it's useful to organize code around data — to think of a type of data as owning its own functions and metadata. In essence, we store data along with relevant functions (methods) in one 'thing' — an object. You can also think of this as writing your own 'types'.\n",
    "\n",
    "You can also build very complicated code this way, so be careful! Don't dive into writing classes until you've used Python for a while and start to see how most people use objects in Python. \n",
    "\n",
    "This notebook builds on the workflow in [Intro to PYthon](Intro_to_Python.ipynb), so you shoudl be sure to look at that notebook first."
   ]
  },
  {
   "cell_type": "markdown",
   "metadata": {},
   "source": [
    "## Types\n",
    "\n",
    "Python has several types, many of which you're already familiar with."
   ]
  },
  {
   "cell_type": "code",
   "execution_count": 7,
   "metadata": {
    "collapsed": true
   },
   "outputs": [],
   "source": [
    "import numpy as np"
   ]
  },
  {
   "cell_type": "code",
   "execution_count": 2,
   "metadata": {
    "collapsed": false
   },
   "outputs": [
    {
     "data": {
      "text/plain": [
       "int"
      ]
     },
     "execution_count": 2,
     "metadata": {},
     "output_type": "execute_result"
    }
   ],
   "source": [
    "type(5)"
   ]
  },
  {
   "cell_type": "code",
   "execution_count": 3,
   "metadata": {
    "collapsed": false
   },
   "outputs": [
    {
     "data": {
      "text/plain": [
       "(str, str)"
      ]
     },
     "execution_count": 3,
     "metadata": {},
     "output_type": "execute_result"
    }
   ],
   "source": [
    "type('fifteen'), type('15')"
   ]
  },
  {
   "cell_type": "markdown",
   "metadata": {},
   "source": [
    "'fifteen' is an **instance** of the class **str**.\n",
    "\n",
    "Most of these objects have methods, which are just functions that 'belong' to the class:"
   ]
  },
  {
   "cell_type": "code",
   "execution_count": 4,
   "metadata": {
    "collapsed": false
   },
   "outputs": [
    {
     "data": {
      "text/plain": [
       "3"
      ]
     },
     "execution_count": 4,
     "metadata": {},
     "output_type": "execute_result"
    }
   ],
   "source": [
    "'fifteen'.find('t')  # Call the method `find` on the string"
   ]
  },
  {
   "cell_type": "code",
   "execution_count": 5,
   "metadata": {
    "collapsed": false
   },
   "outputs": [
    {
     "data": {
      "text/plain": [
       "[1, 3, 4, 5, 7, 8, 1000]"
      ]
     },
     "execution_count": 5,
     "metadata": {},
     "output_type": "execute_result"
    }
   ],
   "source": [
    "lst = [1,3,4,5,7,8]\n",
    "lst.append(1000)\n",
    "lst"
   ]
  },
  {
   "cell_type": "markdown",
   "metadata": {},
   "source": [
    "## A simple class"
   ]
  },
  {
   "cell_type": "code",
   "execution_count": 6,
   "metadata": {
    "collapsed": true
   },
   "outputs": [],
   "source": [
    "layers = [0.23, 0.34, 0.45, 0.25, 0.23, 0.35]"
   ]
  },
  {
   "cell_type": "markdown",
   "metadata": {},
   "source": [
    "Start with only one special method: `__init__()` which is required anyway.\n",
    "\n",
    "Inside `__init__()` we'll only define one **attribute**, `self.layers`."
   ]
  },
  {
   "cell_type": "code",
   "execution_count": 8,
   "metadata": {
    "collapsed": false
   },
   "outputs": [],
   "source": [
    "class Layers(object):  # The 'new' Python base class — gives us some useful basic features.\n",
    "    \n",
    "    def __init__(self, layers):  # All methods take `self`, which is 'this' instance\n",
    "\n",
    "        # Just make sure we end up with an array\n",
    "        self.layers = np.array(layers)\n",
    "        \n",
    "        # __init__ can not return anything, and most people don't include a `return` line."
   ]
  },
  {
   "cell_type": "markdown",
   "metadata": {},
   "source": [
    "Now we can **instantiate** an instance of the class **Layers**"
   ]
  },
  {
   "cell_type": "code",
   "execution_count": 9,
   "metadata": {
    "collapsed": false
   },
   "outputs": [],
   "source": [
    "l = Layers(layers)"
   ]
  },
  {
   "cell_type": "code",
   "execution_count": 10,
   "metadata": {
    "collapsed": false
   },
   "outputs": [
    {
     "data": {
      "text/plain": [
       "<__main__.Layers at 0x7f44cc5c49b0>"
      ]
     },
     "execution_count": 10,
     "metadata": {},
     "output_type": "execute_result"
    }
   ],
   "source": [
    "l"
   ]
  },
  {
   "cell_type": "code",
   "execution_count": 11,
   "metadata": {
    "collapsed": false
   },
   "outputs": [
    {
     "data": {
      "text/plain": [
       "array([ 0.23,  0.34,  0.45,  0.25,  0.23,  0.35])"
      ]
     },
     "execution_count": 11,
     "metadata": {},
     "output_type": "execute_result"
    }
   ],
   "source": [
    "l.layers"
   ]
  },
  {
   "cell_type": "markdown",
   "metadata": {},
   "source": [
    "At this point, we might as well just have an array, like we had before. So let's add another attribute, let's give the object a 'name':"
   ]
  },
  {
   "cell_type": "code",
   "execution_count": 15,
   "metadata": {
    "collapsed": false
   },
   "outputs": [
    {
     "ename": "TypeError",
     "evalue": "sum() missing 1 required positional argument: 'b'",
     "output_type": "error",
     "traceback": [
      "\u001b[0;31m---------------------------------------------------------------------------\u001b[0m",
      "\u001b[0;31mTypeError\u001b[0m                                 Traceback (most recent call last)",
      "\u001b[0;32m<ipython-input-15-54df6eb09e03>\u001b[0m in \u001b[0;36m<module>\u001b[0;34m()\u001b[0m\n\u001b[1;32m      2\u001b[0m     \u001b[0;32mreturn\u001b[0m \u001b[0ma\u001b[0m \u001b[0;34m+\u001b[0m \u001b[0mb\u001b[0m\u001b[0;34m\u001b[0m\u001b[0m\n\u001b[1;32m      3\u001b[0m \u001b[0;34m\u001b[0m\u001b[0m\n\u001b[0;32m----> 4\u001b[0;31m \u001b[0msum\u001b[0m\u001b[0;34m(\u001b[0m\u001b[0;36m5\u001b[0m\u001b[0;34m)\u001b[0m\u001b[0;34m\u001b[0m\u001b[0m\n\u001b[0m",
      "\u001b[0;31mTypeError\u001b[0m: sum() missing 1 required positional argument: 'b'"
     ]
    }
   ],
   "source": [
    "def sum(a, b=1):\n",
    "    return a + b\n",
    "\n",
    "sum(5)"
   ]
  },
  {
   "cell_type": "code",
   "execution_count": 24,
   "metadata": {
    "collapsed": true
   },
   "outputs": [],
   "source": [
    "class Layers(object):\n",
    "    \n",
    "    def __init__(self, layers, label=None):  # We use a default value of None\n",
    "\n",
    "        self.layers = np.array(layers)\n",
    "        self.label = label or \"My log\"  # This trick substitutes anything evaluating as False with 'My log'"
   ]
  },
  {
   "cell_type": "code",
   "execution_count": 25,
   "metadata": {
    "collapsed": false
   },
   "outputs": [],
   "source": [
    "l = Layers(layers)"
   ]
  },
  {
   "cell_type": "code",
   "execution_count": 26,
   "metadata": {
    "collapsed": false
   },
   "outputs": [
    {
     "data": {
      "text/plain": [
       "'My log'"
      ]
     },
     "execution_count": 26,
     "metadata": {},
     "output_type": "execute_result"
    }
   ],
   "source": [
    "l.label"
   ]
  },
  {
   "cell_type": "markdown",
   "metadata": {},
   "source": [
    "## Magic methods"
   ]
  },
  {
   "cell_type": "markdown",
   "metadata": {},
   "source": [
    "Let's find out how big our fancy `Layers` object is..."
   ]
  },
  {
   "cell_type": "code",
   "execution_count": 29,
   "metadata": {
    "collapsed": false
   },
   "outputs": [
    {
     "ename": "TypeError",
     "evalue": "object of type 'Layers' has no len()",
     "output_type": "error",
     "traceback": [
      "\u001b[0;31m---------------------------------------------------------------------------\u001b[0m",
      "\u001b[0;31mTypeError\u001b[0m                                 Traceback (most recent call last)",
      "\u001b[0;32m<ipython-input-29-e7d365b98336>\u001b[0m in \u001b[0;36m<module>\u001b[0;34m()\u001b[0m\n\u001b[0;32m----> 1\u001b[0;31m \u001b[0mlen\u001b[0m\u001b[0;34m(\u001b[0m\u001b[0ml\u001b[0m\u001b[0;34m)\u001b[0m\u001b[0;34m\u001b[0m\u001b[0m\n\u001b[0m",
      "\u001b[0;31mTypeError\u001b[0m: object of type 'Layers' has no len()"
     ]
    }
   ],
   "source": [
    "len(l)"
   ]
  },
  {
   "cell_type": "markdown",
   "metadata": {},
   "source": [
    "Dammit!\n",
    "\n",
    "The class inherited from `object` when we defined it, and it doesn't know how to apply `len` to our thing. We could do this..."
   ]
  },
  {
   "cell_type": "code",
   "execution_count": 30,
   "metadata": {
    "collapsed": false
   },
   "outputs": [
    {
     "data": {
      "text/plain": [
       "6"
      ]
     },
     "execution_count": 30,
     "metadata": {},
     "output_type": "execute_result"
    }
   ],
   "source": [
    "len(l.layers)"
   ]
  },
  {
   "cell_type": "markdown",
   "metadata": {},
   "source": [
    "But sometimes we'd like something to 'just work' — maybe later we're going to pass our instances to something that can take lists or our new objects, and that thing might call `len()` on our object. \n",
    "\n",
    "That's why this also doesn't help:"
   ]
  },
  {
   "cell_type": "code",
   "execution_count": 32,
   "metadata": {
    "collapsed": true
   },
   "outputs": [],
   "source": [
    "class Layers(object):\n",
    "    def __init__(self, layers, label=None):\n",
    "        self.layers = np.array(layers)\n",
    "        self.label = label or \"My log\"\n",
    "        self.length = self.layers.size"
   ]
  },
  {
   "cell_type": "markdown",
   "metadata": {},
   "source": [
    "What's more, storing length in an attribute like this is unexpected...\n",
    "\n",
    "So we tell it with a so-called 'dunder' (double-underscore) or ['magic' method](https://docs.python.org/3/reference/datamodel.html) (not to be confused with IPython magics). That way, we can give our object the same interface as typical Python objects."
   ]
  },
  {
   "cell_type": "code",
   "execution_count": 36,
   "metadata": {
    "collapsed": true
   },
   "outputs": [],
   "source": [
    "class Layers(object):\n",
    "    def __init__(self, layers, label=None): \n",
    "        self.layers = np.array(layers)\n",
    "        self.label = label or \"My log\"\n",
    "\n",
    "    def __len__(self):\n",
    "        return len(self.layers)"
   ]
  },
  {
   "cell_type": "code",
   "execution_count": 37,
   "metadata": {
    "collapsed": false
   },
   "outputs": [
    {
     "data": {
      "text/plain": [
       "6"
      ]
     },
     "execution_count": 37,
     "metadata": {},
     "output_type": "execute_result"
    }
   ],
   "source": [
    "l = Layers(layers, label='Well 1')\n",
    "len(l)"
   ]
  },
  {
   "cell_type": "code",
   "execution_count": 39,
   "metadata": {
    "collapsed": false
   },
   "outputs": [
    {
     "ename": "TypeError",
     "evalue": "object of type 'int' has no len()",
     "output_type": "error",
     "traceback": [
      "\u001b[0;31m---------------------------------------------------------------------------\u001b[0m",
      "\u001b[0;31mTypeError\u001b[0m                                 Traceback (most recent call last)",
      "\u001b[0;32m<ipython-input-39-d42e7c5a4468>\u001b[0m in \u001b[0;36m<module>\u001b[0;34m()\u001b[0m\n\u001b[0;32m----> 1\u001b[0;31m \u001b[0mlen\u001b[0m\u001b[0;34m(\u001b[0m\u001b[0;36m6\u001b[0m\u001b[0;34m)\u001b[0m\u001b[0;34m\u001b[0m\u001b[0m\n\u001b[0m",
      "\u001b[0;31mTypeError\u001b[0m: object of type 'int' has no len()"
     ]
    }
   ],
   "source": [
    "len(6)"
   ]
  },
  {
   "cell_type": "markdown",
   "metadata": {},
   "source": [
    "Another useful magic method is `__repr__()`. Right now all we see when we do `l` on its own is:"
   ]
  },
  {
   "cell_type": "code",
   "execution_count": 42,
   "metadata": {
    "collapsed": false
   },
   "outputs": [
    {
     "data": {
      "text/plain": [
       "<__main__.Layers at 0x7f44cc54eb70>"
      ]
     },
     "execution_count": 42,
     "metadata": {},
     "output_type": "execute_result"
    }
   ],
   "source": [
    "l"
   ]
  },
  {
   "cell_type": "code",
   "execution_count": 54,
   "metadata": {
    "collapsed": true
   },
   "outputs": [],
   "source": [
    "class Layers(object):\n",
    "    def __init__(self, layers, label=None): \n",
    "        self.layers = np.array(layers)\n",
    "        self.label = label or \"My log\"\n",
    "\n",
    "    def __len__(self):\n",
    "        return len(self.layers)\n",
    "    \n",
    "    def __repr__(self):\n",
    "        return 'Layers(length={})'.format(len(self))\n",
    "    \n",
    "    def __str__(self):\n",
    "        s = 'Layers([{}...{}])'\n",
    "        return s.format(self.layers[:3], self.layers[-3:])"
   ]
  },
  {
   "cell_type": "code",
   "execution_count": 56,
   "metadata": {
    "collapsed": false
   },
   "outputs": [
    {
     "data": {
      "text/plain": [
       "Layers(length=6)"
      ]
     },
     "execution_count": 56,
     "metadata": {},
     "output_type": "execute_result"
    }
   ],
   "source": [
    "l = Layers(layers, label='Well 1')\n",
    "l"
   ]
  },
  {
   "cell_type": "code",
   "execution_count": 57,
   "metadata": {
    "collapsed": false
   },
   "outputs": [
    {
     "name": "stdout",
     "output_type": "stream",
     "text": [
      "Layers([[ 0.23  0.34  0.45]...[ 0.25  0.23  0.35]])\n"
     ]
    }
   ],
   "source": [
    "print(l)"
   ]
  },
  {
   "cell_type": "markdown",
   "metadata": {},
   "source": [
    "A similar method `__str__()` defines what happens if we cast the object to a `str` type — which is also what happens to it if we call `print()` on it.\n",
    "\n",
    "### Ex: Try writing a __str__ method"
   ]
  },
  {
   "cell_type": "markdown",
   "metadata": {},
   "source": [
    "A handy extra magic method in Jupyter notebook is `_repr_html_()` which tells the notebook what to use for `repr()` — it overrides `__repr__()` when you're in the notebook."
   ]
  },
  {
   "cell_type": "code",
   "execution_count": 58,
   "metadata": {
    "collapsed": true
   },
   "outputs": [],
   "source": [
    "class Layers(object):\n",
    "    def __init__(self, layers, label=None):\n",
    "        self.layers = np.array(layers)\n",
    "        self.label = label or \"My log\"\n",
    "        self.length = self.layers.size\n",
    "        \n",
    "    def __len__(self):\n",
    "        return len(self.layers)\n",
    "\n",
    "    def __repr__(self):\n",
    "        return 'Layers(length={})'.format(len(self))\n",
    "    \n",
    "    def _repr_html_(self):\n",
    "        rows = \"<tr><th>{}</th></tr>\".format(self.label)\n",
    "        rows += \"<tr><td>\"\n",
    "        layer_strs = [str(i) for i in self.layers]\n",
    "        rows += \"</td></tr><tr><td>\".join(layer_strs)\n",
    "        rows += \"</td></tr>\"\n",
    "        html = \"<table>{}</table>\".format(rows)\n",
    "        return html"
   ]
  },
  {
   "cell_type": "code",
   "execution_count": 61,
   "metadata": {
    "collapsed": false
   },
   "outputs": [
    {
     "data": {
      "text/html": [
       "<table><tr><th>Well 1</th></tr><tr><td>0.23</td></tr><tr><td>0.34</td></tr><tr><td>0.45</td></tr><tr><td>0.25</td></tr><tr><td>0.23</td></tr><tr><td>0.35</td></tr></table>"
      ],
      "text/plain": [
       "Layers(length=6)"
      ]
     },
     "execution_count": 61,
     "metadata": {},
     "output_type": "execute_result"
    }
   ],
   "source": [
    "l = Layers(layers, label='Well 1')\n",
    "l"
   ]
  },
  {
   "cell_type": "markdown",
   "metadata": {},
   "source": [
    "## Ex: Try writing a method that allows you to do layers1 + layers2"
   ]
  },
  {
   "cell_type": "code",
   "execution_count": 83,
   "metadata": {
    "collapsed": false
   },
   "outputs": [
    {
     "data": {
      "text/plain": [
       "array([[1, 2, 3],\n",
       "       [4, 5, 6]])"
      ]
     },
     "execution_count": 83,
     "metadata": {},
     "output_type": "execute_result"
    }
   ],
   "source": [
    "np.vstack([[1,2,3], [4,5,6]])"
   ]
  },
  {
   "cell_type": "code",
   "execution_count": 87,
   "metadata": {
    "collapsed": false
   },
   "outputs": [
    {
     "data": {
      "text/plain": [
       "array([<class '__main__.Layers'>, 4, 5, 6], dtype=object)"
      ]
     },
     "execution_count": 87,
     "metadata": {},
     "output_type": "execute_result"
    }
   ],
   "source": [
    "np.append(Layers, np.array([4,5,6]))"
   ]
  },
  {
   "cell_type": "code",
   "execution_count": 91,
   "metadata": {
    "collapsed": true
   },
   "outputs": [],
   "source": [
    "class Layers(object):\n",
    "    def __init__(self, layers, label=None):\n",
    "        self.layers = np.array(layers)\n",
    "        self.label = label or \"My log\"\n",
    "        self.length = self.layers.size\n",
    "        \n",
    "    def __len__(self):\n",
    "        return len(self.layers)\n",
    "\n",
    "    def __repr__(self):\n",
    "        return 'Layers(length={})'.format(len(self))\n",
    "    \n",
    "    def _repr_html_(self):\n",
    "        rows = \"<tr><th>{}</th></tr>\".format(self.label)\n",
    "        rows += \"<tr><td>\"\n",
    "        layer_strs = [str(i) for i in self.layers]\n",
    "        rows += \"</td></tr><tr><td>\".join(layer_strs)\n",
    "        rows += \"</td></tr>\"\n",
    "        html = \"<table>{}</table>\".format(rows)\n",
    "        return html\n",
    "    \n",
    "    \n",
    "    def __add__(self, other):\n",
    "        \n",
    "        all_layers = np.append(self.layers, other.layers)\n",
    "        \n",
    "        return Layers(all_layers, self.label)"
   ]
  },
  {
   "cell_type": "code",
   "execution_count": 92,
   "metadata": {
    "collapsed": false
   },
   "outputs": [
    {
     "data": {
      "text/html": [
       "<table><tr><th>My awesome well</th></tr><tr><td>1</td></tr><tr><td>2</td></tr><tr><td>3</td></tr><tr><td>4</td></tr><tr><td>5</td></tr><tr><td>6</td></tr><tr><td>7</td></tr></table>"
      ],
      "text/plain": [
       "Layers(length=7)"
      ]
     },
     "execution_count": 92,
     "metadata": {},
     "output_type": "execute_result"
    }
   ],
   "source": [
    "l = Layers([1,2,3], \"My awesome well\")\n",
    "m = Layers([4,5,6,7], \"My other awesome well\")\n",
    "\n",
    "l + m"
   ]
  },
  {
   "cell_type": "code",
   "execution_count": 93,
   "metadata": {
    "collapsed": false
   },
   "outputs": [
    {
     "data": {
      "text/plain": [
       "{'label': 'My awesome well', 'layers': array([1, 2, 3]), 'length': 3}"
      ]
     },
     "execution_count": 93,
     "metadata": {},
     "output_type": "execute_result"
    }
   ],
   "source": [
    "l.__dict__"
   ]
  },
  {
   "cell_type": "markdown",
   "metadata": {},
   "source": [
    "## Constructor methods\n",
    "\n",
    "It can be handy to have several ways to instantiate a class, rather than knowing you'll pass a list (say). \n",
    "\n",
    "Let's make a CSV file and write a special method to read those. Even though this is only a 1D dataset, I'll make it more interesting — and more like what you'll normally encounter — by assuming we're reading lots of rows from the CSV."
   ]
  },
  {
   "cell_type": "code",
   "execution_count": 94,
   "metadata": {
    "collapsed": false
   },
   "outputs": [],
   "source": [
    "import csv\n",
    "\n",
    "with open('../data/my_layers.csv', 'w') as f:\n",
    "    writer = csv.writer(f)\n",
    "    for row in layers:\n",
    "        writer.writerow([row])  # Have to form a list b/c it's just a 1D array."
   ]
  },
  {
   "cell_type": "code",
   "execution_count": 95,
   "metadata": {
    "collapsed": false
   },
   "outputs": [
    {
     "name": "stdout",
     "output_type": "stream",
     "text": [
      "0.23\r\n",
      "0.34\r\n",
      "0.45\r\n",
      "0.25\r\n",
      "0.23\r\n",
      "0.35\r\n"
     ]
    }
   ],
   "source": [
    "!more ../data/my_layers.csv"
   ]
  },
  {
   "cell_type": "code",
   "execution_count": 127,
   "metadata": {
    "collapsed": true
   },
   "outputs": [],
   "source": [
    "import matplotlib.pyplot as plt\n",
    "%matplotlib inline\n",
    "\n",
    "class Layers(object):\n",
    "    def __init__(self, layers, label=None):\n",
    "        self.layers = np.array(layers)\n",
    "        self.label = label or \"My log\"\n",
    "        self.length = self.layers.size\n",
    "        \n",
    "    def __len__(self):\n",
    "        return len(self.layers)\n",
    "\n",
    "    def __repr__(self):\n",
    "        return 'Layers(length={})'.format(len(self))\n",
    "    \n",
    "    def _repr_html_(self):\n",
    "        rows = \"<tr><th>{}</th></tr>\".format(self.label)\n",
    "        rows += \"<tr><td>\"\n",
    "        layer_strs = [str(i) for i in self.layers]\n",
    "        rows += \"</td></tr><tr><td>\".join(layer_strs)\n",
    "        rows += \"</td></tr>\"\n",
    "        html = \"<table>{}</table>\".format(rows)\n",
    "        return html\n",
    "    \n",
    "    # This decorator indicates to Python that this method handles classes not instances.\n",
    "    @classmethod\n",
    "    def from_csv(cls, filename, column=0):  # Takes cls not self.\n",
    "        layer_list = []\n",
    "        with open(filename, 'r') as f:\n",
    "            reader = csv.reader(f)\n",
    "            for row in reader:\n",
    "                layer_list.append(float(row[column]))\n",
    "        return cls(layer_list)  # Returns an instance of the class.\n",
    "    \n",
    "    def compute_rc(self):\n",
    "        \"\"\"\n",
    "        This computes the reflection coefficients of the layers.\n",
    "        \"\"\"\n",
    "        upper = self.layers[:-1]\n",
    "        lower = self.layers[1:]\n",
    "        \n",
    "        rcs = (lower - upper) / (lower + upper)\n",
    "\n",
    "        return rcs\n",
    "\n",
    "    def plot(self):\n",
    "        fig = plt.figure(figsize=(4,12))\n",
    "        ax = fig.add_subplot(111)\n",
    "        z = np.arange(len(self.layers))\n",
    "        ax.barh(z, self.layers)\n",
    "        plt.show()"
   ]
  },
  {
   "cell_type": "code",
   "execution_count": 128,
   "metadata": {
    "collapsed": false
   },
   "outputs": [
    {
     "data": {
      "text/html": [
       "<table><tr><th>My log</th></tr><tr><td>0.23</td></tr><tr><td>0.34</td></tr><tr><td>0.45</td></tr><tr><td>0.25</td></tr><tr><td>0.23</td></tr><tr><td>0.35</td></tr></table>"
      ],
      "text/plain": [
       "Layers(length=6)"
      ]
     },
     "execution_count": 128,
     "metadata": {},
     "output_type": "execute_result"
    }
   ],
   "source": [
    "l = Layers.from_csv('../data/my_layers.csv', column=0)\n",
    "l"
   ]
  },
  {
   "cell_type": "code",
   "execution_count": 129,
   "metadata": {
    "collapsed": false
   },
   "outputs": [
    {
     "data": {
      "text/plain": [
       "array([ 0.19298246,  0.13924051, -0.28571429, -0.04166667,  0.20689655])"
      ]
     },
     "execution_count": 129,
     "metadata": {},
     "output_type": "execute_result"
    }
   ],
   "source": [
    "l.compute_rc()"
   ]
  },
  {
   "cell_type": "code",
   "execution_count": 130,
   "metadata": {
    "collapsed": false
   },
   "outputs": [
    {
     "data": {
      "image/png": "[encoded data removed]",
      "text/plain": [
       "<matplotlib.figure.Figure at 0x7f44c48456a0>"
      ]
     },
     "metadata": {},
     "output_type": "display_data"
    }
   ],
   "source": [
    "l.plot()"
   ]
  },
  {
   "cell_type": "markdown",
   "metadata": {},
   "source": [
    "### Ex: Can you write a method to compute reflection coefficients for these layers?"
   ]
  },
  {
   "cell_type": "markdown",
   "metadata": {},
   "source": [
    "### Ex: Can you write a method to plot the Layers instance?"
   ]
  },
  {
   "cell_type": "markdown",
   "metadata": {},
   "source": [
    "<hr />\n",
    "\n",
    "<div>\n",
    "<img src=\"https://avatars1.githubusercontent.com/u/1692321?s=50\"><p style=\"text-align:center\">© Agile Geoscience 2016</p>\n",
    "</div>"
   ]
  }
 ],
 "metadata": {
  "anaconda-cloud": {},
  "kernelspec": {
   "display_name": "Python [python3]",
   "language": "python",
   "name": "Python [python3]"
  },
  "language_info": {
   "codemirror_mode": {
    "name": "ipython",
    "version": 3
   },
   "file_extension": ".py",
   "mimetype": "text/x-python",
   "name": "python",
   "nbconvert_exporter": "python",
   "pygments_lexer": "ipython3",
   "version": "3.5.2"
  }
 },
 "nbformat": 4,
 "nbformat_minor": 0
}

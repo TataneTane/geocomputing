{
 "cells": [
  {
   "cell_type": "markdown",
   "metadata": {},
   "source": [
    "# EXERCISE — Intro to scientific computing\n",
    "\n",
    "To jump into programming with Python, we'll make some **reflection coefficients**.\n",
    "\n",
    "Before coming into the Notebook, spend some time in an interactive session learning about sequences (strings, lists), and doing basic indexing, slicing, `append()`, `in`, etc. Then you can come in here.\n",
    "\n",
    "## Lists\n",
    "\n",
    "We are going to make a little earth model. We'll go from interval properties (velocity and density) to interface properties at the boundaries between rocks.\n",
    "\n",
    "### Q. Start by making two lists of numbers of the same length — in the range [2000,3000]."
   ]
  },
  {
   "cell_type": "code",
   "execution_count": 1,
   "metadata": {
    "collapsed": true
   },
   "outputs": [],
   "source": [
    "velocity = [ 2300, 2350, 2700, 2600, 2750, 3500 ]\n",
    "density = [ 2550, 2500, 2400, 2800, 2900, 3000 ]"
   ]
  },
  {
   "cell_type": "markdown",
   "metadata": {},
   "source": [
    "Now we compute acoustic impedance by stepping over the two lists at the same time. We'll store the result for now as a list called `layers`."
   ]
  },
  {
   "cell_type": "code",
   "execution_count": 2,
   "metadata": {
    "collapsed": false
   },
   "outputs": [
    {
     "data": {
      "text/plain": [
       "[(2300, 2550),\n",
       " (2350, 2500),\n",
       " (2700, 2400),\n",
       " (2600, 2800),\n",
       " (2750, 2900),\n",
       " (3500, 3000)]"
      ]
     },
     "execution_count": 2,
     "metadata": {},
     "output_type": "execute_result"
    }
   ],
   "source": [
    "list(zip(velocity, density))"
   ]
  },
  {
   "cell_type": "code",
   "execution_count": 3,
   "metadata": {
    "collapsed": false
   },
   "outputs": [],
   "source": [
    "layers = []\n",
    "\n",
    "for j in range(len(velocity)):\n",
    "    vp = velocity[j]\n",
    "    rho = density[j]\n",
    "    layers.append(vp * rho)\n"
   ]
  },
  {
   "cell_type": "code",
   "execution_count": 4,
   "metadata": {
    "collapsed": false
   },
   "outputs": [
    {
     "data": {
      "text/plain": [
       "[5865000, 5875000, 6480000, 7280000, 7975000, 10500000]"
      ]
     },
     "execution_count": 4,
     "metadata": {},
     "output_type": "execute_result"
    }
   ],
   "source": [
    "layers"
   ]
  },
  {
   "cell_type": "markdown",
   "metadata": {},
   "source": [
    "We imagine these as properties of rock layers. We want to do computations on the interfaces, doing operations on 'upper' and 'lower' layers.\n",
    "\n",
    "### Q. Form the expression for the 'lower' layers."
   ]
  },
  {
   "cell_type": "code",
   "execution_count": 5,
   "metadata": {
    "collapsed": true
   },
   "outputs": [],
   "source": [
    "uppers = layers[:-1]\n",
    "lowers = layers[1:]"
   ]
  },
  {
   "cell_type": "markdown",
   "metadata": {},
   "source": [
    "### Q. Form the expression for refectivity coefficients.\n",
    "\n",
    "$$ R = \\frac{lower - upper}{lower + upper} $$"
   ]
  },
  {
   "cell_type": "code",
   "execution_count": 8,
   "metadata": {
    "collapsed": false
   },
   "outputs": [
    {
     "data": {
      "text/plain": [
       "[0.0008517887563884157,\n",
       " 0.04896802913800081,\n",
       " 0.05813953488372093,\n",
       " 0.04555883316945264,\n",
       " 0.13667117726657646]"
      ]
     },
     "execution_count": 8,
     "metadata": {},
     "output_type": "execute_result"
    }
   ],
   "source": [
    "rcs"
   ]
  },
  {
   "cell_type": "code",
   "execution_count": 10,
   "metadata": {
    "collapsed": false
   },
   "outputs": [
    {
     "name": "stdout",
     "output_type": "stream",
     "text": [
      "rc 0.0009\n",
      "rc 0.0490\n",
      "rc 0.0581\n",
      "rc 0.0456\n",
      "rc 0.1367\n"
     ]
    }
   ],
   "source": [
    "for r in rcs:\n",
    "    print(\"rc %.4f\" % r)"
   ]
  },
  {
   "cell_type": "code",
   "execution_count": 15,
   "metadata": {
    "collapsed": false
   },
   "outputs": [
    {
     "name": "stdout",
     "output_type": "stream",
     "text": [
      "          rc 0.0009\n",
      "          rc 0.0490\n",
      "          rc 0.0581\n",
      "          rc 0.0456\n",
      "          rc 0.1367\n"
     ]
    }
   ],
   "source": [
    "for r in rcs:\n",
    "    print(\"{0:>12s} {1:.4f}\".format('rc', r))"
   ]
  },
  {
   "cell_type": "code",
   "execution_count": null,
   "metadata": {
    "collapsed": true
   },
   "outputs": [],
   "source": []
  },
  {
   "cell_type": "markdown",
   "metadata": {},
   "source": [
    "### Q. Can you rewrite that `for` loop as a list comprehension?"
   ]
  },
  {
   "cell_type": "code",
   "execution_count": 7,
   "metadata": {
    "collapsed": false
   },
   "outputs": [],
   "source": [
    "rcs = []\n",
    "for l, u in zip(lowers, uppers):\n",
    "    rc = (l - u) / (l + u)\n",
    "    rcs.append(rc)"
   ]
  },
  {
   "cell_type": "code",
   "execution_count": 31,
   "metadata": {
    "collapsed": false
   },
   "outputs": [
    {
     "name": "stdout",
     "output_type": "stream",
     "text": [
      "0\n",
      "1\n",
      "2\n",
      "3\n",
      "4\n",
      "5\n",
      "6\n",
      "7\n",
      "8\n",
      "9\n"
     ]
    }
   ],
   "source": [
    "for n in range(10):\n",
    "    print(n)"
   ]
  },
  {
   "cell_type": "code",
   "execution_count": 43,
   "metadata": {
    "collapsed": false
   },
   "outputs": [],
   "source": [
    "def sum(aa, bb):\n",
    "    return aa + bb"
   ]
  },
  {
   "cell_type": "code",
   "execution_count": 34,
   "metadata": {
    "collapsed": false
   },
   "outputs": [
    {
     "data": {
      "text/plain": [
       "17"
      ]
     },
     "execution_count": 34,
     "metadata": {},
     "output_type": "execute_result"
    }
   ],
   "source": [
    "sum(8, 9)"
   ]
  },
  {
   "cell_type": "code",
   "execution_count": 36,
   "metadata": {
    "collapsed": false
   },
   "outputs": [],
   "source": [
    "w = \"don't\"\n",
    "string = \"\"\"and now\n",
    "it can contain\n",
    "newlines\n",
    "\"\"\""
   ]
  },
  {
   "cell_type": "code",
   "execution_count": 39,
   "metadata": {
    "collapsed": false
   },
   "outputs": [
    {
     "name": "stdout",
     "output_type": "stream",
     "text": [
      "and now\n",
      "it can contain\n",
      "newlines\n",
      "\n"
     ]
    }
   ],
   "source": [
    "print(string)"
   ]
  },
  {
   "cell_type": "code",
   "execution_count": 42,
   "metadata": {
    "collapsed": false
   },
   "outputs": [],
   "source": [
    "rcs = [(l - u) / (l + u) for l, u in zip(lowers, uppers)]"
   ]
  },
  {
   "cell_type": "markdown",
   "metadata": {},
   "source": [
    "## Functions"
   ]
  },
  {
   "cell_type": "markdown",
   "metadata": {},
   "source": [
    "Definition, inputs, side-effects, returning, scope, docstrings"
   ]
  },
  {
   "cell_type": "code",
   "execution_count": 47,
   "metadata": {
    "collapsed": true
   },
   "outputs": [],
   "source": [
    "# Exercise\n",
    "def compute_rc(layers):\n",
    "    \"\"\"\n",
    "    Computes reflection coefficients given\n",
    "    a list of layer impedances.\n",
    "    \"\"\"\n",
    "    uppers = layers[:-1]\n",
    "    lowers = layers[1:]\n",
    "    rcs = [(l-u)/(l+u) for l, u in zip(lowers, uppers)]\n",
    "    \n",
    "    return rcs"
   ]
  },
  {
   "cell_type": "code",
   "execution_count": 48,
   "metadata": {
    "collapsed": false
   },
   "outputs": [
    {
     "data": {
      "text/plain": [
       "[0.0008517887563884157,\n",
       " 0.04896802913800081,\n",
       " 0.05813953488372093,\n",
       " 0.04555883316945264,\n",
       " 0.13667117726657646]"
      ]
     },
     "execution_count": 48,
     "metadata": {},
     "output_type": "execute_result"
    }
   ],
   "source": [
    "compute_rc(layers)"
   ]
  },
  {
   "cell_type": "markdown",
   "metadata": {},
   "source": [
    "Put in a file and import into a new notebook"
   ]
  },
  {
   "cell_type": "markdown",
   "metadata": {},
   "source": [
    "## Numpy\n",
    "\n",
    "**Before continuing, do some basic NumPy array stuff in the interpreter.**\n",
    "\n",
    "Let's make a really big 'log' from random numbers:"
   ]
  },
  {
   "cell_type": "code",
   "execution_count": 49,
   "metadata": {
    "collapsed": true
   },
   "outputs": [],
   "source": [
    "import numpy as np  # Just like importing file"
   ]
  },
  {
   "cell_type": "code",
   "execution_count": 50,
   "metadata": {
    "collapsed": false
   },
   "outputs": [
    {
     "name": "stdout",
     "output_type": "stream",
     "text": [
      "1 loop, best of 3: 4.14 s per loop\n"
     ]
    }
   ],
   "source": [
    "biglog = np.random.random(10000000)\n",
    "%timeit compute_rc(biglog)"
   ]
  },
  {
   "cell_type": "markdown",
   "metadata": {},
   "source": [
    "Note that the log has to be fairly big for the benchmarking to work properly, because otherwise the CPU caches the computation and this skews the results."
   ]
  },
  {
   "cell_type": "markdown",
   "metadata": {},
   "source": [
    "Now we can re-write our function using arrays instead of lists."
   ]
  },
  {
   "cell_type": "code",
   "execution_count": 56,
   "metadata": {
    "collapsed": false
   },
   "outputs": [],
   "source": [
    "# Exercise\n",
    "def compute_rc_vector(layers):\n",
    "\n",
    "    layers = np.array(layers)\n",
    "\n",
    "    upper = layers[:-1]\n",
    "    lower = layers[1:]\n",
    "    \n",
    "    rcs = (lower - upper) / (lower + upper)\n",
    "    \n",
    "    return rcs"
   ]
  },
  {
   "cell_type": "code",
   "execution_count": 57,
   "metadata": {
    "collapsed": false
   },
   "outputs": [
    {
     "data": {
      "text/plain": [
       "array([ 0.00085179,  0.04896803,  0.05813953,  0.04555883,  0.13667118])"
      ]
     },
     "execution_count": 57,
     "metadata": {},
     "output_type": "execute_result"
    }
   ],
   "source": [
    "compute_rc_vector(layers)"
   ]
  },
  {
   "cell_type": "code",
   "execution_count": 58,
   "metadata": {
    "collapsed": false
   },
   "outputs": [
    {
     "name": "stdout",
     "output_type": "stream",
     "text": [
      "1 loop, best of 3: 220 ms per loop\n"
     ]
    }
   ],
   "source": [
    "%timeit compute_rc_vector(biglog)"
   ]
  },
  {
   "cell_type": "code",
   "execution_count": 59,
   "metadata": {
    "collapsed": false
   },
   "outputs": [
    {
     "data": {
      "text/plain": [
       "18.818181818181817"
      ]
     },
     "execution_count": 59,
     "metadata": {},
     "output_type": "execute_result"
    }
   ],
   "source": [
    "4.14/0.22"
   ]
  },
  {
   "cell_type": "markdown",
   "metadata": {},
   "source": [
    "60 times faster on my machine!"
   ]
  },
  {
   "cell_type": "markdown",
   "metadata": {},
   "source": [
    "## Plotting basics"
   ]
  },
  {
   "cell_type": "code",
   "execution_count": 67,
   "metadata": {
    "collapsed": true
   },
   "outputs": [],
   "source": [
    "import numpy as np\n",
    "import matplotlib.pyplot as plt\n",
    "%matplotlib inline"
   ]
  },
  {
   "cell_type": "markdown",
   "metadata": {},
   "source": [
    "Not we can only plot part of `biglog` because it contains too many points for `matplotlib` (and for our screen!). If we really wanted to plot it, we'd have to find a way to upscale it."
   ]
  },
  {
   "cell_type": "code",
   "execution_count": 70,
   "metadata": {
    "collapsed": false
   },
   "outputs": [
    {
     "data": {
      "image/png": "[encoded data removed]",
      "text/plain": [
       "<matplotlib.figure.Figure at 0x7f4a185e8cc0>"
      ]
     },
     "metadata": {},
     "output_type": "display_data"
    }
   ],
   "source": [
    "plt.plot(biglog[:500])\n",
    "plt.savefig('myfile.svg', dpi=400)\n",
    "plt.show()"
   ]
  },
  {
   "cell_type": "code",
   "execution_count": 71,
   "metadata": {
    "collapsed": false
   },
   "outputs": [
    {
     "data": {
      "image/png": "[encoded data removed]",
      "text/plain": [
       "<matplotlib.figure.Figure at 0x7f4a18184358>"
      ]
     },
     "metadata": {},
     "output_type": "display_data"
    }
   ],
   "source": [
    "fig = plt.figure(figsize=(15,2))\n",
    "ax = fig.add_subplot(111)\n",
    "ax.plot(biglog[:500])\n",
    "ax.set_title(\"big log\")\n",
    "\n",
    "plt.show()"
   ]
  },
  {
   "cell_type": "markdown",
   "metadata": {},
   "source": [
    "### Q. Try setting the x and y axis titles, changing colours, adding a legend, etc."
   ]
  },
  {
   "cell_type": "markdown",
   "metadata": {},
   "source": [
    "<hr />\n",
    "\n",
    "<div>\n",
    "<img src=\"https://avatars1.githubusercontent.com/u/1692321?s=50\"><p style=\"text-align:center\">© Agile Geoscience 2016</p>\n",
    "</div>"
   ]
  }
 ],
 "metadata": {
  "anaconda-cloud": {},
  "kernelspec": {
   "display_name": "Python [python3]",
   "language": "python",
   "name": "Python [python3]"
  },
  "language_info": {
   "codemirror_mode": {
    "name": "ipython",
    "version": 3
   },
   "file_extension": ".py",
   "mimetype": "text/x-python",
   "name": "python",
   "nbconvert_exporter": "python",
   "pygments_lexer": "ipython3",
   "version": "3.5.2"
  }
 },
 "nbformat": 4,
 "nbformat_minor": 0
}

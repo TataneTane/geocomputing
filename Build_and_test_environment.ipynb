{
 "cells": [
  {
   "cell_type": "markdown",
   "metadata": {},
   "source": [
    "# Build and test the environment\n",
    "\n",
    "**This document explains how to set up your environment for the geocomputing course.**"
   ]
  },
  {
   "cell_type": "markdown",
   "metadata": {},
   "source": [
    "## 1. Install Anaconda\n",
    "\n",
    "First, install [Anaconda for **Python 3.5**](https://www.continuum.io/downloads), following the instructions there.\n",
    "\n",
    "If you wish, you can also [install `git`](https://git-scm.com/book/en/v2/Getting-Started-Installing-Git) for your platform, but it's not a requirement.\n",
    "\n",
    "## 2. Get the course materials\n",
    "\n",
    "If you are using `git`, clone this repo: https://github.com/agile-geoscience/geocomputing.git\n",
    "\n",
    "If not, download this ZIP file: https://github.com/agile-geoscience/geocomputing/archive/master.zip\n",
    "\n",
    "Put the folder somewhere you will find it again.\n",
    "\n",
    "This file is in the top level folder, called `Build_ad_test_environment.ipynb`."
   ]
  },
  {
   "cell_type": "markdown",
   "metadata": {},
   "source": [
    "## 3. a. Set up the environment\n",
    "\n",
    "Do the following in a terminal:\n",
    "\n",
    "    conda config –-add channels conda-forge\n",
    "    conda create –n geocomputing python=3.5 anaconda\n",
    "\n",
    "Start the environment:\n",
    "\n",
    "    source activate geocomputing\n",
    "\n",
    "Now install packages:\n",
    "\n",
    "    conda install numpy  # Ensures latest.\n",
    "    conda install obspy\n",
    "    conda install geopandas\n",
    "    conda install ipyparallel\n",
    "    conda install tqdm\n",
    "    pip install lasio\n",
    "    pip install welly\n",
    "    pip install bruges\n",
    "    \n",
    "All of this should go without trouble.\n",
    "\n",
    "## 3. b. Enter the environment and the repo\n",
    "\n",
    "Now you will need to start running this notebook.\n",
    "\n",
    "    # If you didn't do this already:\n",
    "    git clone https://github.com/agile-geoscience/geocomputing.git\n",
    "    \n",
    "Then...\n",
    "    \n",
    "    cd geocomputing\n",
    "    jupyter notebook Build_and_test_environment.ipynb\n",
    "\n",
    "or if you're already running it, restart its kernel... and we can go on to check the environment."
   ]
  },
  {
   "cell_type": "markdown",
   "metadata": {},
   "source": [
    "## 4. Check anaconda basics"
   ]
  },
  {
   "cell_type": "code",
   "execution_count": null,
   "metadata": {
    "collapsed": false
   },
   "outputs": [],
   "source": [
    "!python -V\n",
    "\n",
    "# Should be 3.5"
   ]
  },
  {
   "cell_type": "code",
   "execution_count": null,
   "metadata": {
    "collapsed": true
   },
   "outputs": [],
   "source": [
    "import numpy as np\n",
    "import matplotlib.pyplot as plt\n",
    "from scipy.signal import ricker"
   ]
  },
  {
   "cell_type": "markdown",
   "metadata": {},
   "source": [
    "## 5. Check conda installs\n",
    "\n",
    "If any of these fail, go out to a terminal and do this, replacing `<package>` with the name of the package.\n",
    "\n",
    "    source activate geocomp  # Or whatever is the name of the environment\n",
    "    conda install <package>"
   ]
  },
  {
   "cell_type": "code",
   "execution_count": null,
   "metadata": {
    "collapsed": true
   },
   "outputs": [],
   "source": [
    "import pandas as pd"
   ]
  },
  {
   "cell_type": "code",
   "execution_count": null,
   "metadata": {
    "collapsed": true
   },
   "outputs": [],
   "source": [
    "import requests"
   ]
  },
  {
   "cell_type": "code",
   "execution_count": null,
   "metadata": {
    "collapsed": false
   },
   "outputs": [],
   "source": [
    "import numba"
   ]
  },
  {
   "cell_type": "code",
   "execution_count": null,
   "metadata": {
    "collapsed": true
   },
   "outputs": [],
   "source": [
    "import ipyparallel as ipp"
   ]
  },
  {
   "cell_type": "code",
   "execution_count": null,
   "metadata": {
    "collapsed": true
   },
   "outputs": [],
   "source": [
    "import obspy"
   ]
  },
  {
   "cell_type": "markdown",
   "metadata": {},
   "source": [
    "## 6. Check pip installs\n",
    "\n",
    "If any of these fail, go out to a terminal and do this, replacing `<package>` with the name of the package.\n",
    "\n",
    "    source activate geocomp  # Or whatever is the name of the environment\n",
    "    pip install <package>"
   ]
  },
  {
   "cell_type": "code",
   "execution_count": null,
   "metadata": {
    "collapsed": true
   },
   "outputs": [],
   "source": [
    "import lasio"
   ]
  },
  {
   "cell_type": "code",
   "execution_count": null,
   "metadata": {
    "collapsed": true
   },
   "outputs": [],
   "source": [
    "import bruges as b"
   ]
  },
  {
   "cell_type": "markdown",
   "metadata": {},
   "source": [
    "## 7. Download data"
   ]
  },
  {
   "cell_type": "code",
   "execution_count": 2,
   "metadata": {
    "collapsed": true
   },
   "outputs": [],
   "source": [
    "import os\n",
    "import requests"
   ]
  },
  {
   "cell_type": "code",
   "execution_count": null,
   "metadata": {
    "collapsed": true
   },
   "outputs": [],
   "source": [
    "files = [\n",
    "    '2D_Land_vibro_data_2ms.tgz',\n",
    "    '3D_gathers_pstm_nmo_X1001.sgy',\n",
    "    'Penobscot_0-1000ms.sgy.gz',\n",
    "    'Penobscot_NumPy.npy.gz',\n",
    "]\n",
    "\n",
    "url = \"https://s3.amazonaws.com/agilegeo/\""
   ]
  },
  {
   "cell_type": "code",
   "execution_count": null,
   "metadata": {
    "collapsed": false
   },
   "outputs": [],
   "source": [
    "localpath = ''  # For CWD.\n",
    "\n",
    "for file in files:\n",
    "    print(file)\n",
    "    r = requests.get(url+file, stream=True)\n",
    "\n",
    "    chunk_size = 1024 * 1024 # 1MB\n",
    "\n",
    "    with open(os.path.join(localpath, file), 'wb') as fd:\n",
    "        for chunk in r.iter_content(chunk_size):\n",
    "            if chunk:\n",
    "                fd.write(chunk)"
   ]
  },
  {
   "cell_type": "code",
   "execution_count": null,
   "metadata": {
    "collapsed": true
   },
   "outputs": [],
   "source": []
  }
 ],
 "metadata": {
  "kernelspec": {
   "display_name": "Python 3",
   "language": "python",
   "name": "python3"
  },
  "language_info": {
   "codemirror_mode": {
    "name": "ipython",
    "version": 3
   },
   "file_extension": ".py",
   "mimetype": "text/x-python",
   "name": "python",
   "nbconvert_exporter": "python",
   "pygments_lexer": "ipython3",
   "version": "3.5.2"
  }
 },
 "nbformat": 4,
 "nbformat_minor": 0
}
